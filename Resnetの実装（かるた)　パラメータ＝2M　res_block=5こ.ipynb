{
  "nbformat": 4,
  "nbformat_minor": 0,
  "metadata": {
    "colab": {
      "provenance": [],
      "authorship_tag": "ABX9TyNllf2hEYm8P6TQftQEt1sb",
      "include_colab_link": true
    },
    "kernelspec": {
      "name": "python3",
      "display_name": "Python 3"
    },
    "language_info": {
      "name": "python"
    }
  },
  "cells": [
    {
      "cell_type": "markdown",
      "metadata": {
        "id": "view-in-github",
        "colab_type": "text"
      },
      "source": [
        "<a href=\"https://colab.research.google.com/github/Yang-yamper/research-for-graduation/blob/main/Resnet%E3%81%AE%E5%AE%9F%E8%A3%85%EF%BC%88%E3%81%8B%E3%82%8B%E3%81%9F)%E3%80%80%E3%83%91%E3%83%A9%E3%83%A1%E3%83%BC%E3%82%BF%EF%BC%9D2M%E3%80%80res_block%3D5%E3%81%93.ipynb\" target=\"_parent\"><img src=\"https://colab.research.google.com/assets/colab-badge.svg\" alt=\"Open In Colab\"/></a>"
      ]
    },
    {
      "cell_type": "code",
      "execution_count": null,
      "metadata": {
        "colab": {
          "base_uri": "https://localhost:8080/"
        },
        "id": "TDOJAr_nbcdm",
        "outputId": "99dc967d-6600-4a01-f5b0-93eb67d4abea"
      },
      "outputs": [
        {
          "output_type": "stream",
          "name": "stdout",
          "text": [
            "Mounted at /content/drive\n"
          ]
        }
      ],
      "source": [
        "from google.colab import drive\n",
        "drive.mount('/content/drive')"
      ]
    },
    {
      "cell_type": "code",
      "source": [
        "import cv2\n",
        "import pandas as pd\n",
        "import numpy as np\n",
        "import matplotlib.pyplot as plt\n",
        "import os \n",
        "import keras\n",
        "from tqdm import tqdm, tqdm_notebook\n",
        "from keras.layers import Input, Conv2D, GlobalAveragePooling2D, BatchNormalization, MaxPooling2D\n",
        "from keras.layers import Add, Activation, Flatten, Dense, Dropout\n",
        "from keras.models import Model\n",
        "from keras.optimizers import RMSprop\n",
        "from keras.preprocessing.image import ImageDataGenerator"
      ],
      "metadata": {
        "id": "9D6R-MfXZvxE"
      },
      "execution_count": null,
      "outputs": []
    },
    {
      "cell_type": "code",
      "execution_count": null,
      "metadata": {
        "id": "JVc_wvNdrv7w",
        "colab": {
          "base_uri": "https://localhost:8080/"
        },
        "outputId": "a529af1a-7769-42f6-9e0c-fab102d5a8bc"
      },
      "outputs": [
        {
          "output_type": "stream",
          "name": "stderr",
          "text": [
            "/usr/local/lib/python3.7/dist-packages/numpy/lib/npyio.py:528: VisibleDeprecationWarning: Creating an ndarray from ragged nested sequences (which is a list-or-tuple of lists-or-tuples-or ndarrays with different lengths or shapes) is deprecated. If you meant to do this, you must specify 'dtype=object' when creating the ndarray.\n",
            "  arr = np.asanyarray(arr)\n"
          ]
        }
      ],
      "source": [
        "from PIL import Image\n",
        "import os, glob\n",
        "import numpy as np\n",
        "import random, math\n",
        "\n",
        "#画像が保存されているルートディレクトリのパス\n",
        "root_dir = \"/content/drive/MyDrive/result_range\"\n",
        "# 商品名\n",
        "categories = [\"left\",\"right\"]\n",
        "\n",
        "# 画像データ用配列\n",
        "X = []\n",
        "# ラベルデータ用配列\n",
        "Y = []\n",
        "\n",
        "#画像データごとにadd_sample()を呼び出し、X,Yの配列を返す関数\n",
        "def make_sample(files):\n",
        "    global X, Y\n",
        "    X = []\n",
        "    Y = []\n",
        "    for cat, fname in files:\n",
        "        add_sample(cat, fname)\n",
        "    return np.array(X), np.array(Y)\n",
        "\n",
        "#渡された画像データを読み込んでXに格納し、また、\n",
        "#画像データに対応するcategoriesのidxをY格納する関数\n",
        "def add_sample(cat, fname):\n",
        "    img = Image.open(fname)\n",
        "    img = img.convert(\"RGB\")\n",
        "    img = img.resize((224,224))\n",
        "    data = np.asarray(img)\n",
        "    X.append(data)\n",
        "    Y.append(cat)\n",
        "\n",
        "#全データ格納用配列\n",
        "allfiles = []\n",
        "\n",
        "#カテゴリ配列の各値と、それに対応するidxを認識し、全データをallfilesにまとめる\n",
        "for idx, cat in enumerate(categories):\n",
        "    image_dir = root_dir + \"/\" + cat\n",
        "    files = glob.glob(image_dir + \"/*.jpg\")\n",
        "    for f in files:\n",
        "        allfiles.append((idx, f))\n",
        "\n",
        "#シャッフル後、学習データと検証データに分ける\n",
        "random.shuffle(allfiles)\n",
        "th = math.floor(len(allfiles) * 0.8)\n",
        "train = allfiles[0:th]\n",
        "test  = allfiles[th:]\n",
        "X_train, y_train = make_sample(train)\n",
        "X_test, y_test = make_sample(test)\n",
        "xy = (X_train, X_test, y_train, y_test)\n",
        "#データを保存する（データの名前を「tea_data.npy」としている）\n",
        "np.save(\"/content/drive/MyDrive/tea_data.npy\", xy)"
      ]
    },
    {
      "cell_type": "code",
      "execution_count": null,
      "metadata": {
        "id": "gw0lC_e3sFCs"
      },
      "outputs": [],
      "source": [
        "from keras.utils import np_utils\n",
        "import numpy as np\n",
        "\n",
        "categories = [\"left\",\"right\"]\n",
        "nb_classes = len(categories)\n",
        "\n",
        "X_train, X_test,y_train, y_test = np.load(\"/content/drive/MyDrive/tea_data.npy\", allow_pickle=True)\n",
        "\n",
        "#データの正規化\n",
        "X_train = X_train.astype(\"float\") / 255\n",
        "X_test  = X_test.astype(\"float\")  / 255\n",
        "\n",
        "#kerasで扱えるようにcategoriesをベクトルに変換\n",
        "y_train = np_utils.to_categorical(y_train, nb_classes)\n",
        "y_test  = np_utils.to_categorical(y_test, nb_classes)"
      ]
    },
    {
      "cell_type": "code",
      "source": [
        "#res block\n",
        "def resblock(x, filters, kernel_size):\n",
        "    x_ = Conv2D(filters, kernel_size, padding='same')(x)\n",
        "    x_ = BatchNormalization()(x_)\n",
        "    x_ = Activation(\"relu\")(x_)\n",
        "    x_ = Conv2D(filters, kernel_size, padding='same')(x)\n",
        "    x = Add()([x_, x])\n",
        "    x = BatchNormalization()(x)\n",
        "    x = Activation(\"relu\")(x)\n",
        "    return x\n",
        "\n",
        "#cnnの構築\n",
        "input_ = Input(shape=(224,224,3))#横の数、縦の数、RGB\n",
        "\n",
        "c = Conv2D(2, (3,3), padding='same')(input_)\n",
        "c = BatchNormalization()(c)\n",
        "c = Activation('relu')(c)\n",
        "c = MaxPooling2D(pool_size=(2,2))(c)\n",
        "c = resblock(c,filters=2, kernel_size=(3, 3))\n",
        "c = resblock(c,filters=2, kernel_size=(3, 3))\n",
        "c = resblock(c,filters=2, kernel_size=(3, 3))\n",
        "c = resblock(c,filters=2, kernel_size=(3, 3))\n",
        "c = resblock(c,filters=2, kernel_size=(3, 3))\n",
        "c = Flatten()(c)\n",
        "c = Dense(64, activation='relu')(c)\n",
        "c = Dropout(0.2)(c)\n",
        "c = Dense(2, activation='sigmoid')(c)\n",
        "\n",
        "model = Model(input_, c)\n",
        "\n",
        "model.summary()\n",
        "model.compile(loss='binary_crossentropy', optimizer=RMSprop(learning_rate=1e-4),metrics=[\"acc\"])"
      ],
      "metadata": {
        "colab": {
          "base_uri": "https://localhost:8080/"
        },
        "id": "FgxTAU8QZyhg",
        "outputId": "c465a9be-1249-4ea0-fd08-b74d6396bf62"
      },
      "execution_count": null,
      "outputs": [
        {
          "output_type": "stream",
          "name": "stdout",
          "text": [
            "Model: \"model_15\"\n",
            "__________________________________________________________________________________________________\n",
            " Layer (type)                   Output Shape         Param #     Connected to                     \n",
            "==================================================================================================\n",
            " input_17 (InputLayer)          [(None, 224, 224, 3  0           []                               \n",
            "                                )]                                                                \n",
            "                                                                                                  \n",
            " conv2d_84 (Conv2D)             (None, 224, 224, 2)  56          ['input_17[0][0]']               \n",
            "                                                                                                  \n",
            " batch_normalization_83 (BatchN  (None, 224, 224, 2)  8          ['conv2d_84[0][0]']              \n",
            " ormalization)                                                                                    \n",
            "                                                                                                  \n",
            " activation_83 (Activation)     (None, 224, 224, 2)  0           ['batch_normalization_83[0][0]'] \n",
            "                                                                                                  \n",
            " max_pooling2d_17 (MaxPooling2D  (None, 112, 112, 2)  0          ['activation_83[0][0]']          \n",
            " )                                                                                                \n",
            "                                                                                                  \n",
            " conv2d_86 (Conv2D)             (None, 112, 112, 2)  38          ['max_pooling2d_17[0][0]']       \n",
            "                                                                                                  \n",
            " add_34 (Add)                   (None, 112, 112, 2)  0           ['conv2d_86[0][0]',              \n",
            "                                                                  'max_pooling2d_17[0][0]']       \n",
            "                                                                                                  \n",
            " batch_normalization_85 (BatchN  (None, 112, 112, 2)  8          ['add_34[0][0]']                 \n",
            " ormalization)                                                                                    \n",
            "                                                                                                  \n",
            " activation_85 (Activation)     (None, 112, 112, 2)  0           ['batch_normalization_85[0][0]'] \n",
            "                                                                                                  \n",
            " conv2d_88 (Conv2D)             (None, 112, 112, 2)  38          ['activation_85[0][0]']          \n",
            "                                                                                                  \n",
            " add_35 (Add)                   (None, 112, 112, 2)  0           ['conv2d_88[0][0]',              \n",
            "                                                                  'activation_85[0][0]']          \n",
            "                                                                                                  \n",
            " batch_normalization_87 (BatchN  (None, 112, 112, 2)  8          ['add_35[0][0]']                 \n",
            " ormalization)                                                                                    \n",
            "                                                                                                  \n",
            " activation_87 (Activation)     (None, 112, 112, 2)  0           ['batch_normalization_87[0][0]'] \n",
            "                                                                                                  \n",
            " conv2d_90 (Conv2D)             (None, 112, 112, 2)  38          ['activation_87[0][0]']          \n",
            "                                                                                                  \n",
            " add_36 (Add)                   (None, 112, 112, 2)  0           ['conv2d_90[0][0]',              \n",
            "                                                                  'activation_87[0][0]']          \n",
            "                                                                                                  \n",
            " batch_normalization_89 (BatchN  (None, 112, 112, 2)  8          ['add_36[0][0]']                 \n",
            " ormalization)                                                                                    \n",
            "                                                                                                  \n",
            " activation_89 (Activation)     (None, 112, 112, 2)  0           ['batch_normalization_89[0][0]'] \n",
            "                                                                                                  \n",
            " conv2d_92 (Conv2D)             (None, 112, 112, 2)  38          ['activation_89[0][0]']          \n",
            "                                                                                                  \n",
            " add_37 (Add)                   (None, 112, 112, 2)  0           ['conv2d_92[0][0]',              \n",
            "                                                                  'activation_89[0][0]']          \n",
            "                                                                                                  \n",
            " batch_normalization_91 (BatchN  (None, 112, 112, 2)  8          ['add_37[0][0]']                 \n",
            " ormalization)                                                                                    \n",
            "                                                                                                  \n",
            " activation_91 (Activation)     (None, 112, 112, 2)  0           ['batch_normalization_91[0][0]'] \n",
            "                                                                                                  \n",
            " conv2d_94 (Conv2D)             (None, 112, 112, 2)  38          ['activation_91[0][0]']          \n",
            "                                                                                                  \n",
            " add_38 (Add)                   (None, 112, 112, 2)  0           ['conv2d_94[0][0]',              \n",
            "                                                                  'activation_91[0][0]']          \n",
            "                                                                                                  \n",
            " batch_normalization_93 (BatchN  (None, 112, 112, 2)  8          ['add_38[0][0]']                 \n",
            " ormalization)                                                                                    \n",
            "                                                                                                  \n",
            " activation_93 (Activation)     (None, 112, 112, 2)  0           ['batch_normalization_93[0][0]'] \n",
            "                                                                                                  \n",
            " flatten_15 (Flatten)           (None, 25088)        0           ['activation_93[0][0]']          \n",
            "                                                                                                  \n",
            " dense_30 (Dense)               (None, 64)           1605696     ['flatten_15[0][0]']             \n",
            "                                                                                                  \n",
            " dropout_15 (Dropout)           (None, 64)           0           ['dense_30[0][0]']               \n",
            "                                                                                                  \n",
            " dense_31 (Dense)               (None, 2)            130         ['dropout_15[0][0]']             \n",
            "                                                                                                  \n",
            "==================================================================================================\n",
            "Total params: 1,606,120\n",
            "Trainable params: 1,606,096\n",
            "Non-trainable params: 24\n",
            "__________________________________________________________________________________________________\n"
          ]
        }
      ]
    },
    {
      "cell_type": "code",
      "source": [
        "history = model.fit(X_train, y_train\n",
        "                   , batch_size = 20\n",
        "                   , epochs = 30\n",
        "                   , validation_split = 0.3\n",
        "                   , verbose = 1)"
      ],
      "metadata": {
        "colab": {
          "base_uri": "https://localhost:8080/"
        },
        "id": "8WUTMBZjZ0vf",
        "outputId": "4e69efe3-6651-4d5a-8395-705bc822a9e4"
      },
      "execution_count": null,
      "outputs": [
        {
          "output_type": "stream",
          "name": "stdout",
          "text": [
            "Epoch 1/30\n",
            "41/41 [==============================] - 46s 1s/step - loss: 0.4473 - acc: 0.8176 - val_loss: 0.6882 - val_acc: 0.6667\n",
            "Epoch 2/30\n",
            "41/41 [==============================] - 44s 1s/step - loss: 0.1636 - acc: 0.9400 - val_loss: 0.6786 - val_acc: 0.5812\n",
            "Epoch 3/30\n",
            "41/41 [==============================] - 44s 1s/step - loss: 0.1018 - acc: 0.9694 - val_loss: 0.6757 - val_acc: 0.5869\n",
            "Epoch 4/30\n",
            "41/41 [==============================] - 44s 1s/step - loss: 0.0457 - acc: 0.9902 - val_loss: 0.7279 - val_acc: 0.5783\n",
            "Epoch 5/30\n",
            "41/41 [==============================] - 44s 1s/step - loss: 0.0344 - acc: 0.9902 - val_loss: 0.7310 - val_acc: 0.4217\n",
            "Epoch 6/30\n",
            "41/41 [==============================] - 42s 1s/step - loss: 0.0266 - acc: 0.9902 - val_loss: 0.6592 - val_acc: 0.5385\n",
            "Epoch 7/30\n",
            "41/41 [==============================] - 44s 1s/step - loss: 0.0351 - acc: 0.9890 - val_loss: 0.7413 - val_acc: 0.4786\n",
            "Epoch 8/30\n",
            "41/41 [==============================] - 46s 1s/step - loss: 0.0117 - acc: 0.9963 - val_loss: 0.3442 - val_acc: 0.9003\n",
            "Epoch 9/30\n",
            "41/41 [==============================] - 44s 1s/step - loss: 0.0198 - acc: 0.9927 - val_loss: 0.2425 - val_acc: 0.9259\n",
            "Epoch 10/30\n",
            "41/41 [==============================] - 42s 1s/step - loss: 0.0153 - acc: 0.9951 - val_loss: 0.1916 - val_acc: 0.9373\n",
            "Epoch 11/30\n",
            "41/41 [==============================] - 44s 1s/step - loss: 0.0140 - acc: 0.9939 - val_loss: 0.1960 - val_acc: 0.9288\n",
            "Epoch 12/30\n",
            "41/41 [==============================] - 44s 1s/step - loss: 0.0139 - acc: 0.9951 - val_loss: 0.2138 - val_acc: 0.9345\n",
            "Epoch 13/30\n",
            "41/41 [==============================] - 42s 1s/step - loss: 0.0160 - acc: 0.9939 - val_loss: 0.2104 - val_acc: 0.9345\n",
            "Epoch 14/30\n",
            "41/41 [==============================] - 46s 1s/step - loss: 0.0111 - acc: 0.9951 - val_loss: 0.2587 - val_acc: 0.9202\n",
            "Epoch 15/30\n",
            "41/41 [==============================] - 44s 1s/step - loss: 0.0225 - acc: 0.9939 - val_loss: 0.2629 - val_acc: 0.9316\n",
            "Epoch 16/30\n",
            "41/41 [==============================] - 42s 1s/step - loss: 0.0117 - acc: 0.9963 - val_loss: 0.3081 - val_acc: 0.9259\n",
            "Epoch 17/30\n",
            "41/41 [==============================] - 44s 1s/step - loss: 0.0128 - acc: 0.9963 - val_loss: 0.2953 - val_acc: 0.9345\n",
            "Epoch 18/30\n",
            "41/41 [==============================] - 44s 1s/step - loss: 0.0117 - acc: 0.9951 - val_loss: 0.3870 - val_acc: 0.9231\n",
            "Epoch 19/30\n",
            "41/41 [==============================] - 44s 1s/step - loss: 0.0065 - acc: 0.9976 - val_loss: 0.3192 - val_acc: 0.9345\n",
            "Epoch 20/30\n",
            "41/41 [==============================] - 44s 1s/step - loss: 0.0151 - acc: 0.9951 - val_loss: 0.3595 - val_acc: 0.9316\n",
            "Epoch 21/30\n",
            "41/41 [==============================] - 44s 1s/step - loss: 0.0114 - acc: 0.9963 - val_loss: 0.3355 - val_acc: 0.9373\n",
            "Epoch 22/30\n",
            "41/41 [==============================] - 44s 1s/step - loss: 0.0075 - acc: 0.9976 - val_loss: 0.3988 - val_acc: 0.9316\n",
            "Epoch 23/30\n",
            "41/41 [==============================] - 42s 1s/step - loss: 0.0058 - acc: 0.9976 - val_loss: 0.4895 - val_acc: 0.9202\n",
            "Epoch 24/30\n",
            "41/41 [==============================] - 44s 1s/step - loss: 0.0136 - acc: 0.9951 - val_loss: 0.4506 - val_acc: 0.9231\n",
            "Epoch 25/30\n",
            "41/41 [==============================] - 44s 1s/step - loss: 0.0066 - acc: 0.9976 - val_loss: 0.4343 - val_acc: 0.9345\n",
            "Epoch 26/30\n",
            "41/41 [==============================] - 44s 1s/step - loss: 0.0149 - acc: 0.9963 - val_loss: 0.4583 - val_acc: 0.9373\n",
            "Epoch 27/30\n",
            "41/41 [==============================] - 44s 1s/step - loss: 0.0032 - acc: 0.9988 - val_loss: 0.4666 - val_acc: 0.9373\n",
            "Epoch 28/30\n",
            "41/41 [==============================] - 44s 1s/step - loss: 0.0082 - acc: 0.9963 - val_loss: 0.5094 - val_acc: 0.9231\n",
            "Epoch 29/30\n",
            "41/41 [==============================] - 42s 1s/step - loss: 0.0087 - acc: 0.9976 - val_loss: 0.4947 - val_acc: 0.9345\n",
            "Epoch 30/30\n",
            "41/41 [==============================] - 44s 1s/step - loss: 0.0130 - acc: 0.9951 - val_loss: 0.4811 - val_acc: 0.9316\n"
          ]
        }
      ]
    },
    {
      "cell_type": "code",
      "source": [
        "from keras import layers, models\n",
        "import matplotlib.pyplot as plt\n",
        "\n",
        "acc = history.history['acc']\n",
        "val_acc = history.history['val_acc']\n",
        "loss = history.history['loss']\n",
        "val_loss = history.history['val_loss']\n",
        "\n",
        "epochs = range(len(acc))\n",
        "\n",
        "plt.plot(epochs, acc, 'bo', label='Training acc')\n",
        "plt.plot(epochs, val_acc, 'b', label='Validation acc')\n",
        "plt.title('Training and validation accuracy')\n",
        "plt.legend()\n",
        "plt.savefig('property')\n",
        "\n",
        "plt.figure()\n",
        "\n",
        "plt.plot(epochs, loss, 'bo', label='Training loss')\n",
        "plt.plot(epochs, val_loss, 'b', label='Validation loss')\n",
        "plt.title('Training and validation loss')\n",
        "plt.legend()\n",
        "plt.savefig('loss')"
      ],
      "metadata": {
        "colab": {
          "base_uri": "https://localhost:8080/",
          "height": 545
        },
        "id": "pqvhKNuaWyiQ",
        "outputId": "0d967111-1cc0-425a-b829-24c71c9e55f1"
      },
      "execution_count": null,
      "outputs": [
        {
          "output_type": "display_data",
          "data": {
            "text/plain": [
              "<Figure size 432x288 with 1 Axes>"
            ],
            "image/png": "[encoded data removed]"
          },
          "metadata": {
            "needs_background": "light"
          }
        },
        {
          "output_type": "display_data",
          "data": {
            "text/plain": [
              "<Figure size 432x288 with 1 Axes>"
            ],
            "image/png": "[encoded data removed]"
          },
          "metadata": {
            "needs_background": "light"
          }
        }
      ]
    },
    {
      "cell_type": "code",
      "source": [
        "from PIL import Image\n",
        "import os, glob\n",
        "import numpy as np\n",
        "import random, math\n",
        "\n",
        "# 画像が保存されているディレクトリのパス\n",
        "root_dir = \"/content/drive/MyDrive/result_range\"\n",
        "# 画像が保存されているフォルダ名\n",
        "categories =[\"left\",\"right\"]\n",
        "\n",
        "X = [] # 画像データ\n",
        "Y = [] # ラベルデータ\n",
        "\n",
        "# フォルダごとに分けられたファイルを収集\n",
        "#（categoriesのidxと、画像のファイルパスが紐づいたリストを生成）\n",
        "allfiles = []\n",
        "for idx, cat in enumerate(categories):\n",
        "    image_dir = root_dir + \"/\" + cat\n",
        "    files = glob.glob(image_dir + \"/*.jpg\")\n",
        "    for f in files:\n",
        "        allfiles.append((idx, f))\n",
        "\n",
        "for cat, fname in allfiles:\n",
        "    img = Image.open(fname)\n",
        "    img = img.convert(\"RGB\")\n",
        "    img = img.resize((224,224))\n",
        "    data = np.asarray(img)\n",
        "    X.append(data)\n",
        "    Y.append(cat)\n",
        "\n",
        "x = np.array(X)\n",
        "y = np.array(Y)\n",
        "\n",
        "np.save(\"/content/drive/MyDrive/tea_data_test_X_150.npy\", x)\n",
        "np.save(\"/content/drive/MyDrive/tea_data_test_Y_150.npy\", y)"
      ],
      "metadata": {
        "id": "QPsBTv_LMWMO"
      },
      "execution_count": null,
      "outputs": []
    },
    {
      "cell_type": "code",
      "source": [
        "# モデルの精度を測る\n",
        "\n",
        "#評価用のデータの読み込み\n",
        "test_X = np.load(\"/content/drive/MyDrive/tea_data_test_X_150.npy\")\n",
        "test_Y = np.load(\"/content/drive/MyDrive/tea_data_test_Y_150.npy\")\n",
        "\n",
        "#Yのデータをone-hotに変換\n",
        "from keras.utils import np_utils\n",
        "\n",
        "test_Y = np_utils.to_categorical(test_Y, 2)\n",
        "\n",
        "score = history.model.evaluate(x=test_X,y=test_Y)\n",
        "\n",
        "print('loss=', score[0])\n",
        "print('accuracy=', score[1])"
      ],
      "metadata": {
        "colab": {
          "base_uri": "https://localhost:8080/"
        },
        "id": "cDJTkiuOMRVJ",
        "outputId": "85c03423-7b57-4151-d698-9ac257c11bab"
      },
      "execution_count": null,
      "outputs": [
        {
          "output_type": "stream",
          "name": "stdout",
          "text": [
            "46/46 [==============================] - 20s 440ms/step - loss: 218.1387 - acc: 0.8541\n",
            "loss= 218.1387481689453\n",
            "accuracy= 0.8541095852851868\n"
          ]
        }
      ]
    },
    {
      "cell_type": "code",
      "source": [],
      "metadata": {
        "id": "L4YZX1vJMR6d"
      },
      "execution_count": null,
      "outputs": []
    }
  ]
}