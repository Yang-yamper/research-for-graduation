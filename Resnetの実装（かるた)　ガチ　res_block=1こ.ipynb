{
  "nbformat": 4,
  "nbformat_minor": 0,
  "metadata": {
    "colab": {
      "provenance": [],
      "authorship_tag": "ABX9TyNBpo1ApRbWukBKKWFamw8g",
      "include_colab_link": true
    },
    "kernelspec": {
      "name": "python3",
      "display_name": "Python 3"
    },
    "language_info": {
      "name": "python"
    }
  },
  "cells": [
    {
      "cell_type": "markdown",
      "metadata": {
        "id": "view-in-github",
        "colab_type": "text"
      },
      "source": [
        "<a href=\"https://colab.research.google.com/github/Yang-yamper/research-for-graduation/blob/main/Resnet%E3%81%AE%E5%AE%9F%E8%A3%85%EF%BC%88%E3%81%8B%E3%82%8B%E3%81%9F)%E3%80%80%E3%82%AC%E3%83%81%E3%80%80res_block%3D1%E3%81%93.ipynb\" target=\"_parent\"><img src=\"https://colab.research.google.com/assets/colab-badge.svg\" alt=\"Open In Colab\"/></a>"
      ]
    },
    {
      "cell_type": "code",
      "execution_count": 1,
      "metadata": {
        "colab": {
          "base_uri": "https://localhost:8080/"
        },
        "id": "TDOJAr_nbcdm",
        "outputId": "6f34a33d-018d-48c7-e9dc-bcb4568131fb"
      },
      "outputs": [
        {
          "output_type": "stream",
          "name": "stdout",
          "text": [
            "Mounted at /content/drive\n"
          ]
        }
      ],
      "source": [
        "from google.colab import drive\n",
        "drive.mount('/content/drive')"
      ]
    },
    {
      "cell_type": "code",
      "source": [
        "import cv2\n",
        "import pandas as pd\n",
        "import numpy as np\n",
        "import matplotlib.pyplot as plt\n",
        "import os \n",
        "import keras\n",
        "from tqdm import tqdm, tqdm_notebook\n",
        "from keras.layers import Input, Conv2D, GlobalAveragePooling2D, BatchNormalization, MaxPooling2D\n",
        "from keras.layers import Add, Activation, Flatten, Dense, Dropout\n",
        "from keras.models import Model\n",
        "from keras.optimizers import RMSprop\n",
        "from keras.preprocessing.image import ImageDataGenerator"
      ],
      "metadata": {
        "id": "9D6R-MfXZvxE"
      },
      "execution_count": 2,
      "outputs": []
    },
    {
      "cell_type": "code",
      "execution_count": 3,
      "metadata": {
        "id": "JVc_wvNdrv7w",
        "colab": {
          "base_uri": "https://localhost:8080/"
        },
        "outputId": "93cb64f9-774b-4483-d632-246d573478a2"
      },
      "outputs": [
        {
          "output_type": "stream",
          "name": "stderr",
          "text": [
            "/usr/local/lib/python3.8/dist-packages/numpy/lib/npyio.py:528: VisibleDeprecationWarning: Creating an ndarray from ragged nested sequences (which is a list-or-tuple of lists-or-tuples-or ndarrays with different lengths or shapes) is deprecated. If you meant to do this, you must specify 'dtype=object' when creating the ndarray.\n",
            "  arr = np.asanyarray(arr)\n"
          ]
        }
      ],
      "source": [
        "from PIL import Image\n",
        "import os, glob\n",
        "import numpy as np\n",
        "import random, math\n",
        "\n",
        "#画像が保存されているルートディレクトリのパス\n",
        "root_dir = \"/content/drive/MyDrive/result_range\"\n",
        "# 商品名\n",
        "categories = [\"left\",\"right\"]\n",
        "\n",
        "# 画像データ用配列\n",
        "X = []\n",
        "# ラベルデータ用配列\n",
        "Y = []\n",
        "\n",
        "#画像データごとにadd_sample()を呼び出し、X,Yの配列を返す関数\n",
        "def make_sample(files):\n",
        "    global X, Y\n",
        "    X = []\n",
        "    Y = []\n",
        "    for cat, fname in files:\n",
        "        add_sample(cat, fname)\n",
        "    return np.array(X), np.array(Y)\n",
        "\n",
        "#渡された画像データを読み込んでXに格納し、また、\n",
        "#画像データに対応するcategoriesのidxをY格納する関数\n",
        "def add_sample(cat, fname):\n",
        "    img = Image.open(fname)\n",
        "    img = img.convert(\"RGB\")\n",
        "    img = img.resize((224,224))\n",
        "    data = np.asarray(img)\n",
        "    X.append(data)\n",
        "    Y.append(cat)\n",
        "\n",
        "#全データ格納用配列\n",
        "allfiles = []\n",
        "\n",
        "#カテゴリ配列の各値と、それに対応するidxを認識し、全データをallfilesにまとめる\n",
        "for idx, cat in enumerate(categories):\n",
        "    image_dir = root_dir + \"/\" + cat\n",
        "    files = glob.glob(image_dir + \"/*.jpg\")\n",
        "    for f in files:\n",
        "        allfiles.append((idx, f))\n",
        "\n",
        "#シャッフル後、学習データと検証データに分ける\n",
        "random.shuffle(allfiles)\n",
        "th = math.floor(len(allfiles) * 0.8)\n",
        "train = allfiles[0:th]\n",
        "test  = allfiles[th:]\n",
        "X_train, y_train = make_sample(train)\n",
        "X_test, y_test = make_sample(test)\n",
        "xy = (X_train, X_test, y_train, y_test)\n",
        "#データを保存する（データの名前を「tea_data.npy」としている）\n",
        "np.save(\"/content/drive/MyDrive/tea_data.npy\", xy)"
      ]
    },
    {
      "cell_type": "code",
      "execution_count": 4,
      "metadata": {
        "id": "gw0lC_e3sFCs"
      },
      "outputs": [],
      "source": [
        "from keras.utils import np_utils\n",
        "import numpy as np\n",
        "\n",
        "categories = [\"left\",\"right\"]\n",
        "nb_classes = len(categories)\n",
        "\n",
        "X_train, X_test,y_train, y_test = np.load(\"/content/drive/MyDrive/tea_data.npy\", allow_pickle=True)\n",
        "\n",
        "#データの正規化\n",
        "X_train = X_train.astype(\"float\") / 255\n",
        "X_test  = X_test.astype(\"float\")  / 255\n",
        "\n",
        "#kerasで扱えるようにcategoriesをベクトルに変換\n",
        "y_train = np_utils.to_categorical(y_train, nb_classes)\n",
        "y_test  = np_utils.to_categorical(y_test, nb_classes)"
      ]
    },
    {
      "cell_type": "code",
      "source": [
        "#res block\n",
        "def resblock(x, filters, kernel_size):\n",
        "    x_ = Conv2D(filters, kernel_size, padding='same')(x)\n",
        "    x_ = BatchNormalization()(x_)\n",
        "    x_ = Activation(\"relu\")(x_)\n",
        "    x_ = Conv2D(filters, kernel_size, padding='same')(x)\n",
        "    x = Add()([x_, x])\n",
        "    x = BatchNormalization()(x)\n",
        "    x = Activation(\"relu\")(x)\n",
        "    return x\n",
        "\n",
        "#cnnの構築\n",
        "input_ = Input(shape=(224,224,3))#横の数、縦の数、RGB\n",
        "\n",
        "c = Conv2D(2, (3,3), padding='same')(input_)\n",
        "c = BatchNormalization()(c)\n",
        "c = Activation('relu')(c)\n",
        "c = resblock(c,filters=2,kernel_size=(3, 3))\n",
        "c = MaxPooling2D(pool_size=(2,2))(c)\n",
        "c = Flatten()(c)\n",
        "c = Dense(64,activation='relu')(c)\n",
        "c = Dropout(0.2)(c)\n",
        "c = Dense(2, activation='sigmoid')(c)\n",
        "\n",
        "model = Model(input_, c)\n",
        "\n",
        "model.summary()\n",
        "model.compile(loss='binary_crossentropy', optimizer=RMSprop(learning_rate=1e-4),metrics=[\"acc\"])"
      ],
      "metadata": {
        "id": "FgxTAU8QZyhg",
        "colab": {
          "base_uri": "https://localhost:8080/"
        },
        "outputId": "782596da-a5b5-4de8-fd27-cf52bdacf51a"
      },
      "execution_count": 5,
      "outputs": [
        {
          "output_type": "stream",
          "name": "stdout",
          "text": [
            "Model: \"model\"\n",
            "__________________________________________________________________________________________________\n",
            " Layer (type)                   Output Shape         Param #     Connected to                     \n",
            "==================================================================================================\n",
            " input_1 (InputLayer)           [(None, 224, 224, 3  0           []                               \n",
            "                                )]                                                                \n",
            "                                                                                                  \n",
            " conv2d (Conv2D)                (None, 224, 224, 2)  56          ['input_1[0][0]']                \n",
            "                                                                                                  \n",
            " batch_normalization (BatchNorm  (None, 224, 224, 2)  8          ['conv2d[0][0]']                 \n",
            " alization)                                                                                       \n",
            "                                                                                                  \n",
            " activation (Activation)        (None, 224, 224, 2)  0           ['batch_normalization[0][0]']    \n",
            "                                                                                                  \n",
            " conv2d_2 (Conv2D)              (None, 224, 224, 2)  38          ['activation[0][0]']             \n",
            "                                                                                                  \n",
            " add (Add)                      (None, 224, 224, 2)  0           ['conv2d_2[0][0]',               \n",
            "                                                                  'activation[0][0]']             \n",
            "                                                                                                  \n",
            " batch_normalization_2 (BatchNo  (None, 224, 224, 2)  8          ['add[0][0]']                    \n",
            " rmalization)                                                                                     \n",
            "                                                                                                  \n",
            " activation_2 (Activation)      (None, 224, 224, 2)  0           ['batch_normalization_2[0][0]']  \n",
            "                                                                                                  \n",
            " max_pooling2d (MaxPooling2D)   (None, 112, 112, 2)  0           ['activation_2[0][0]']           \n",
            "                                                                                                  \n",
            " flatten (Flatten)              (None, 25088)        0           ['max_pooling2d[0][0]']          \n",
            "                                                                                                  \n",
            " dense (Dense)                  (None, 64)           1605696     ['flatten[0][0]']                \n",
            "                                                                                                  \n",
            " dropout (Dropout)              (None, 64)           0           ['dense[0][0]']                  \n",
            "                                                                                                  \n",
            " dense_1 (Dense)                (None, 2)            130         ['dropout[0][0]']                \n",
            "                                                                                                  \n",
            "==================================================================================================\n",
            "Total params: 1,605,936\n",
            "Trainable params: 1,605,928\n",
            "Non-trainable params: 8\n",
            "__________________________________________________________________________________________________\n"
          ]
        }
      ]
    },
    {
      "cell_type": "code",
      "source": [
        "history = model.fit(X_train, y_train\n",
        "                   , batch_size = 20\n",
        "                   , epochs = 30\n",
        "                   , validation_split = 0.3\n",
        "                   , verbose = 1)"
      ],
      "metadata": {
        "colab": {
          "base_uri": "https://localhost:8080/"
        },
        "id": "8WUTMBZjZ0vf",
        "outputId": "054f3c63-1363-452f-d826-9cf456078c9c"
      },
      "execution_count": 6,
      "outputs": [
        {
          "output_type": "stream",
          "name": "stdout",
          "text": [
            "Epoch 1/30\n",
            "41/41 [==============================] - 40s 949ms/step - loss: 0.4355 - acc: 0.8323 - val_loss: 0.6867 - val_acc: 0.4929\n",
            "Epoch 2/30\n",
            "41/41 [==============================] - 37s 911ms/step - loss: 0.1775 - acc: 0.9327 - val_loss: 0.5577 - val_acc: 0.7835\n",
            "Epoch 3/30\n",
            "41/41 [==============================] - 41s 999ms/step - loss: 0.1070 - acc: 0.9645 - val_loss: 0.4475 - val_acc: 0.9402\n",
            "Epoch 4/30\n",
            "41/41 [==============================] - 38s 923ms/step - loss: 0.0777 - acc: 0.9792 - val_loss: 0.3519 - val_acc: 0.9117\n",
            "Epoch 5/30\n",
            "41/41 [==============================] - 37s 910ms/step - loss: 0.0505 - acc: 0.9853 - val_loss: 0.2139 - val_acc: 0.9430\n",
            "Epoch 6/30\n",
            "41/41 [==============================] - 38s 933ms/step - loss: 0.0440 - acc: 0.9890 - val_loss: 0.1442 - val_acc: 0.9601\n",
            "Epoch 7/30\n",
            "41/41 [==============================] - 39s 956ms/step - loss: 0.0328 - acc: 0.9939 - val_loss: 0.1145 - val_acc: 0.9573\n",
            "Epoch 8/30\n",
            "41/41 [==============================] - 37s 910ms/step - loss: 0.0264 - acc: 0.9914 - val_loss: 0.1122 - val_acc: 0.9630\n",
            "Epoch 9/30\n",
            "41/41 [==============================] - 37s 909ms/step - loss: 0.0428 - acc: 0.9890 - val_loss: 0.1230 - val_acc: 0.9544\n",
            "Epoch 10/30\n",
            "41/41 [==============================] - 40s 972ms/step - loss: 0.0297 - acc: 0.9927 - val_loss: 0.1461 - val_acc: 0.9516\n",
            "Epoch 11/30\n",
            "41/41 [==============================] - 38s 932ms/step - loss: 0.0162 - acc: 0.9927 - val_loss: 0.1470 - val_acc: 0.9601\n",
            "Epoch 12/30\n",
            "41/41 [==============================] - 38s 935ms/step - loss: 0.0309 - acc: 0.9902 - val_loss: 0.1838 - val_acc: 0.9487\n",
            "Epoch 13/30\n",
            "41/41 [==============================] - 37s 911ms/step - loss: 0.0213 - acc: 0.9939 - val_loss: 0.2121 - val_acc: 0.9316\n",
            "Epoch 14/30\n",
            "41/41 [==============================] - 39s 964ms/step - loss: 0.0244 - acc: 0.9927 - val_loss: 0.2020 - val_acc: 0.9544\n",
            "Epoch 15/30\n",
            "41/41 [==============================] - 37s 905ms/step - loss: 0.0230 - acc: 0.9927 - val_loss: 0.2200 - val_acc: 0.9402\n",
            "Epoch 16/30\n",
            "41/41 [==============================] - 37s 906ms/step - loss: 0.0236 - acc: 0.9939 - val_loss: 0.2387 - val_acc: 0.9487\n",
            "Epoch 17/30\n",
            "41/41 [==============================] - 39s 961ms/step - loss: 0.0160 - acc: 0.9951 - val_loss: 0.2946 - val_acc: 0.9231\n",
            "Epoch 18/30\n",
            "41/41 [==============================] - 37s 907ms/step - loss: 0.0234 - acc: 0.9914 - val_loss: 0.1916 - val_acc: 0.9601\n",
            "Epoch 19/30\n",
            "41/41 [==============================] - 38s 922ms/step - loss: 0.0328 - acc: 0.9914 - val_loss: 0.2643 - val_acc: 0.9516\n",
            "Epoch 20/30\n",
            "41/41 [==============================] - 37s 916ms/step - loss: 0.0107 - acc: 0.9963 - val_loss: 0.2079 - val_acc: 0.9487\n",
            "Epoch 21/30\n",
            "41/41 [==============================] - 37s 905ms/step - loss: 0.0182 - acc: 0.9939 - val_loss: 0.2173 - val_acc: 0.9459\n",
            "Epoch 22/30\n",
            "41/41 [==============================] - 37s 905ms/step - loss: 0.0270 - acc: 0.9914 - val_loss: 0.2377 - val_acc: 0.9544\n",
            "Epoch 23/30\n",
            "41/41 [==============================] - 37s 912ms/step - loss: 0.0203 - acc: 0.9914 - val_loss: 0.2819 - val_acc: 0.9487\n",
            "Epoch 24/30\n",
            "41/41 [==============================] - 39s 967ms/step - loss: 0.0180 - acc: 0.9939 - val_loss: 0.2755 - val_acc: 0.9516\n",
            "Epoch 25/30\n",
            "41/41 [==============================] - 37s 907ms/step - loss: 0.0160 - acc: 0.9951 - val_loss: 0.2497 - val_acc: 0.9516\n",
            "Epoch 26/30\n",
            "41/41 [==============================] - 39s 949ms/step - loss: 0.0282 - acc: 0.9902 - val_loss: 0.2477 - val_acc: 0.9516\n",
            "Epoch 27/30\n",
            "41/41 [==============================] - 37s 909ms/step - loss: 0.0205 - acc: 0.9939 - val_loss: 0.2637 - val_acc: 0.9573\n",
            "Epoch 28/30\n",
            "41/41 [==============================] - 40s 987ms/step - loss: 0.0221 - acc: 0.9914 - val_loss: 0.2853 - val_acc: 0.9544\n",
            "Epoch 29/30\n",
            "41/41 [==============================] - 37s 908ms/step - loss: 0.0181 - acc: 0.9939 - val_loss: 0.2647 - val_acc: 0.9544\n",
            "Epoch 30/30\n",
            "41/41 [==============================] - 37s 911ms/step - loss: 0.0200 - acc: 0.9951 - val_loss: 0.2584 - val_acc: 0.9573\n"
          ]
        }
      ]
    },
    {
      "cell_type": "code",
      "source": [
        "from keras import layers, models\n",
        "import matplotlib.pyplot as plt\n",
        "\n",
        "acc = history.history['acc']\n",
        "val_acc = history.history['val_acc']\n",
        "loss = history.history['loss']\n",
        "val_loss = history.history['val_loss']\n",
        "\n",
        "epochs = range(len(acc))\n",
        "\n",
        "plt.plot(epochs, acc, 'bo', label='Training acc')\n",
        "plt.plot(epochs, val_acc, 'b', label='Validation acc')\n",
        "plt.title('Training and validation accuracy')\n",
        "plt.legend()\n",
        "plt.savefig('property')\n",
        "\n",
        "plt.figure()\n",
        "\n",
        "plt.plot(epochs, loss, 'bo', label='Training loss')\n",
        "plt.plot(epochs, val_loss, 'b', label='Validation loss')\n",
        "plt.title('Training and validation loss')\n",
        "plt.legend()\n",
        "plt.savefig('loss')"
      ],
      "metadata": {
        "colab": {
          "base_uri": "https://localhost:8080/",
          "height": 545
        },
        "id": "pqvhKNuaWyiQ",
        "outputId": "2829e96c-fc79-4e20-cafd-b10f691e4bd2"
      },
      "execution_count": 7,
      "outputs": [
        {
          "output_type": "display_data",
          "data": {
            "text/plain": [
              "<Figure size 432x288 with 1 Axes>"
            ],
            "image/png": "[encoded data removed]"
          },
          "metadata": {
            "needs_background": "light"
          }
        },
        {
          "output_type": "display_data",
          "data": {
            "text/plain": [
              "<Figure size 432x288 with 1 Axes>"
            ],
            "image/png": "[encoded data removed]"
          },
          "metadata": {
            "needs_background": "light"
          }
        }
      ]
    },
    {
      "cell_type": "code",
      "source": [
        "from PIL import Image\n",
        "import os, glob\n",
        "import numpy as np\n",
        "import random, math\n",
        "\n",
        "# 画像が保存されているディレクトリのパス\n",
        "root_dir = \"/content/drive/MyDrive/result_range\"\n",
        "# 画像が保存されているフォルダ名\n",
        "categories =[\"left\",\"right\"]\n",
        "\n",
        "X = [] # 画像データ\n",
        "Y = [] # ラベルデータ\n",
        "\n",
        "# フォルダごとに分けられたファイルを収集\n",
        "#（categoriesのidxと、画像のファイルパスが紐づいたリストを生成）\n",
        "allfiles = []\n",
        "for idx, cat in enumerate(categories):\n",
        "    image_dir = root_dir + \"/\" + cat\n",
        "    files = glob.glob(image_dir + \"/*.jpg\")\n",
        "    for f in files:\n",
        "        allfiles.append((idx, f))\n",
        "\n",
        "for cat, fname in allfiles:\n",
        "    img = Image.open(fname)\n",
        "    img = img.convert(\"RGB\")\n",
        "    img = img.resize((224,224))\n",
        "    data = np.asarray(img)\n",
        "    X.append(data)\n",
        "    Y.append(cat)\n",
        "\n",
        "x = np.array(X)\n",
        "y = np.array(Y)\n",
        "\n",
        "np.save(\"/content/drive/MyDrive/tea_data_test_X_150.npy\", x)\n",
        "np.save(\"/content/drive/MyDrive/tea_data_test_Y_150.npy\", y)"
      ],
      "metadata": {
        "id": "QPsBTv_LMWMO"
      },
      "execution_count": 8,
      "outputs": []
    },
    {
      "cell_type": "code",
      "source": [
        "# モデルの精度を測る\n",
        "\n",
        "#評価用のデータの読み込み\n",
        "test_X = np.load(\"/content/drive/MyDrive/tea_data_test_X_150.npy\")\n",
        "test_Y = np.load(\"/content/drive/MyDrive/tea_data_test_Y_150.npy\")\n",
        "\n",
        "#Yのデータをone-hotに変換\n",
        "from keras.utils import np_utils\n",
        "\n",
        "test_Y = np_utils.to_categorical(test_Y, 2)\n",
        "\n",
        "score = history.model.evaluate(x=test_X,y=test_Y)\n",
        "\n",
        "print('loss=', score[0])\n",
        "print('accuracy=', score[1])"
      ],
      "metadata": {
        "id": "cDJTkiuOMRVJ",
        "colab": {
          "base_uri": "https://localhost:8080/"
        },
        "outputId": "136b2f51-93d7-42a5-83d3-1a39ba151c4f"
      },
      "execution_count": 9,
      "outputs": [
        {
          "output_type": "stream",
          "name": "stdout",
          "text": [
            "46/46 [==============================] - 23s 498ms/step - loss: 6828.6685 - acc: 0.4459\n",
            "loss= 6828.66845703125\n",
            "accuracy= 0.4458903968334198\n"
          ]
        }
      ]
    },
    {
      "cell_type": "code",
      "source": [],
      "metadata": {
        "id": "L4YZX1vJMR6d"
      },
      "execution_count": 9,
      "outputs": []
    }
  ]
}