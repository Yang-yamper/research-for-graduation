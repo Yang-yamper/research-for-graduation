{
  "cells": [
    {
      "cell_type": "markdown",
      "metadata": {
        "id": "view-in-github",
        "colab_type": "text"
      },
      "source": [
        "<a href=\"https://colab.research.google.com/github/Yang-yamper/research-for-graduation/blob/main/%E3%81%8B%E3%82%8B%E3%81%9F%E5%88%A4%E5%88%A5%E6%A9%9F%EF%BC%88verVGG)%E3%80%80Resnet%E5%8F%82%E8%80%83_%E3%80%8014%E5%B1%A4.ipynb\" target=\"_parent\"><img src=\"https://colab.research.google.com/assets/colab-badge.svg\" alt=\"Open In Colab\"/></a>"
      ]
    },
    {
      "cell_type": "code",
      "execution_count": 1,
      "metadata": {
        "colab": {
          "base_uri": "https://localhost:8080/"
        },
        "id": "iMyI3o9_zgqG",
        "outputId": "1db410e6-6ddf-4430-aca6-09ad23e17087"
      },
      "outputs": [
        {
          "output_type": "stream",
          "name": "stdout",
          "text": [
            "Mounted at /content/drive\n"
          ]
        }
      ],
      "source": [
        "from google.colab import drive\n",
        "drive.mount('/content/drive')"
      ]
    },
    {
      "cell_type": "markdown",
      "source": [
        "各種ライブラリのインポート"
      ],
      "metadata": {
        "id": "PsEohVbr2tGC"
      }
    },
    {
      "cell_type": "code",
      "source": [
        "import cv2\n",
        "import pandas as pd\n",
        "import numpy as np\n",
        "import matplotlib.pyplot as plt\n",
        "import os \n",
        "import keras\n",
        "from tqdm import tqdm, tqdm_notebook\n",
        "from keras.layers import Input, Conv2D, GlobalAveragePooling2D, BatchNormalization, MaxPooling2D\n",
        "from keras.layers import Add, Activation, Flatten, Dense, Dropout\n",
        "from keras.models import Model\n",
        "from keras.optimizers import RMSprop\n",
        "from keras.preprocessing.image import ImageDataGenerator"
      ],
      "metadata": {
        "id": "_8-hZq-r2qsD"
      },
      "execution_count": 2,
      "outputs": []
    },
    {
      "cell_type": "code",
      "execution_count": 3,
      "metadata": {
        "colab": {
          "base_uri": "https://localhost:8080/"
        },
        "id": "JVc_wvNdrv7w",
        "outputId": "6d89e74f-b253-4231-b2c6-b7589d75b013"
      },
      "outputs": [
        {
          "output_type": "stream",
          "name": "stderr",
          "text": [
            "/usr/local/lib/python3.7/dist-packages/numpy/lib/npyio.py:528: VisibleDeprecationWarning: Creating an ndarray from ragged nested sequences (which is a list-or-tuple of lists-or-tuples-or ndarrays with different lengths or shapes) is deprecated. If you meant to do this, you must specify 'dtype=object' when creating the ndarray.\n",
            "  arr = np.asanyarray(arr)\n"
          ]
        }
      ],
      "source": [
        "from PIL import Image\n",
        "import os, glob\n",
        "import numpy as np\n",
        "import random, math\n",
        "\n",
        "#画像が保存されているルートディレクトリのパス\n",
        "root_dir = \"/content/drive/MyDrive/result_range\"\n",
        "# 商品名\n",
        "categories = [\"left\",\"right\"]\n",
        "\n",
        "# 画像データ用配列\n",
        "X = []\n",
        "# ラベルデータ用配列\n",
        "Y = []\n",
        "\n",
        "#画像データごとにadd_sample()を呼び出し、X,Yの配列を返す関数\n",
        "def make_sample(files):\n",
        "    global X, Y\n",
        "    X = []\n",
        "    Y = []\n",
        "    for cat, fname in files:\n",
        "        add_sample(cat, fname)\n",
        "    return np.array(X), np.array(Y)\n",
        "\n",
        "#渡された画像データを読み込んでXに格納し、また、\n",
        "#画像データに対応するcategoriesのidxをY格納する関数\n",
        "def add_sample(cat, fname):\n",
        "    img = Image.open(fname)\n",
        "    img = img.convert(\"RGB\")\n",
        "    img = img.resize((224,224))\n",
        "    data = np.asarray(img)\n",
        "    X.append(data)\n",
        "    Y.append(cat)\n",
        "\n",
        "#全データ格納用配列\n",
        "allfiles = []\n",
        "\n",
        "#カテゴリ配列の各値と、それに対応するidxを認識し、全データをallfilesにまとめる\n",
        "for idx, cat in enumerate(categories):\n",
        "    image_dir = root_dir + \"/\" + cat\n",
        "    files = glob.glob(image_dir + \"/*.jpg\")\n",
        "    for f in files:\n",
        "        allfiles.append((idx, f))\n",
        "\n",
        "#シャッフル後、学習データと検証データに分ける\n",
        "random.shuffle(allfiles)\n",
        "th = math.floor(len(allfiles) * 0.8)\n",
        "train = allfiles[0:th]\n",
        "test  = allfiles[th:]\n",
        "X_train, y_train = make_sample(train)\n",
        "X_test, y_test = make_sample(test)\n",
        "xy = (X_train, X_test, y_train, y_test)\n",
        "#データを保存する（データの名前を「tea_data.npy」としている）\n",
        "np.save(\"/content/drive/MyDrive/test_caruta.npy\", xy)"
      ]
    },
    {
      "cell_type": "markdown",
      "metadata": {
        "id": "oKmXIL87r_ex"
      },
      "source": [
        "モデルの構築"
      ]
    },
    {
      "cell_type": "code",
      "execution_count": 9,
      "metadata": {
        "colab": {
          "base_uri": "https://localhost:8080/"
        },
        "id": "wk9i0_nxrBB5",
        "outputId": "5a0ae739-6681-41f9-a4a1-818e9b18c879"
      },
      "outputs": [
        {
          "output_type": "stream",
          "name": "stdout",
          "text": [
            "Model: \"model_5\"\n",
            "_________________________________________________________________\n",
            " Layer (type)                Output Shape              Param #   \n",
            "=================================================================\n",
            " input_6 (InputLayer)        [(None, 224, 224, 3)]     0         \n",
            "                                                                 \n",
            " conv2d_55 (Conv2D)          (None, 224, 224, 32)      896       \n",
            "                                                                 \n",
            " conv2d_56 (Conv2D)          (None, 224, 224, 32)      9248      \n",
            "                                                                 \n",
            " batch_normalization_20 (Bat  (None, 224, 224, 32)     128       \n",
            " chNormalization)                                                \n",
            "                                                                 \n",
            " activation_20 (Activation)  (None, 224, 224, 32)      0         \n",
            "                                                                 \n",
            " max_pooling2d_20 (MaxPoolin  (None, 112, 112, 32)     0         \n",
            " g2D)                                                            \n",
            "                                                                 \n",
            " conv2d_57 (Conv2D)          (None, 112, 112, 64)      18496     \n",
            "                                                                 \n",
            " conv2d_58 (Conv2D)          (None, 112, 112, 64)      36928     \n",
            "                                                                 \n",
            " conv2d_59 (Conv2D)          (None, 112, 112, 64)      36928     \n",
            "                                                                 \n",
            " batch_normalization_21 (Bat  (None, 112, 112, 64)     256       \n",
            " chNormalization)                                                \n",
            "                                                                 \n",
            " activation_21 (Activation)  (None, 112, 112, 64)      0         \n",
            "                                                                 \n",
            " max_pooling2d_21 (MaxPoolin  (None, 56, 56, 64)       0         \n",
            " g2D)                                                            \n",
            "                                                                 \n",
            " conv2d_60 (Conv2D)          (None, 56, 56, 64)        36928     \n",
            "                                                                 \n",
            " conv2d_61 (Conv2D)          (None, 56, 56, 64)        36928     \n",
            "                                                                 \n",
            " conv2d_62 (Conv2D)          (None, 56, 56, 64)        36928     \n",
            "                                                                 \n",
            " batch_normalization_22 (Bat  (None, 56, 56, 64)       256       \n",
            " chNormalization)                                                \n",
            "                                                                 \n",
            " activation_22 (Activation)  (None, 56, 56, 64)        0         \n",
            "                                                                 \n",
            " max_pooling2d_22 (MaxPoolin  (None, 28, 28, 64)       0         \n",
            " g2D)                                                            \n",
            "                                                                 \n",
            " conv2d_63 (Conv2D)          (None, 28, 28, 64)        36928     \n",
            "                                                                 \n",
            " conv2d_64 (Conv2D)          (None, 28, 28, 64)        36928     \n",
            "                                                                 \n",
            " conv2d_65 (Conv2D)          (None, 28, 28, 64)        36928     \n",
            "                                                                 \n",
            " batch_normalization_23 (Bat  (None, 28, 28, 64)       256       \n",
            " chNormalization)                                                \n",
            "                                                                 \n",
            " activation_23 (Activation)  (None, 28, 28, 64)        0         \n",
            "                                                                 \n",
            " max_pooling2d_23 (MaxPoolin  (None, 14, 14, 64)       0         \n",
            " g2D)                                                            \n",
            "                                                                 \n",
            " flatten_5 (Flatten)         (None, 12544)             0         \n",
            "                                                                 \n",
            " dense_15 (Dense)            (None, 128)               1605760   \n",
            "                                                                 \n",
            " dropout_10 (Dropout)        (None, 128)               0         \n",
            "                                                                 \n",
            " dense_16 (Dense)            (None, 256)               33024     \n",
            "                                                                 \n",
            " dropout_11 (Dropout)        (None, 256)               0         \n",
            "                                                                 \n",
            " dense_17 (Dense)            (None, 2)                 514       \n",
            "                                                                 \n",
            "=================================================================\n",
            "Total params: 1,964,258\n",
            "Trainable params: 1,963,810\n",
            "Non-trainable params: 448\n",
            "_________________________________________________________________\n"
          ]
        }
      ],
      "source": [
        "input_ = Input(shape=(224, 224,3))#横の数、縦の数、RGB\n",
        "c = Conv2D(32, (3,3), padding='same')(input_)\n",
        "c = Conv2D(32, (3,3), padding='same')(c)\n",
        "c = BatchNormalization()(c)\n",
        "c = Activation('relu')(c)\n",
        "c = MaxPooling2D(pool_size=(2,2))(c)\n",
        "c = Conv2D(64, (3,3), padding='same')(c)\n",
        "c = Conv2D(64, (3,3), padding='same')(c)\n",
        "c = Conv2D(64, (3,3), padding='same')(c)\n",
        "c = BatchNormalization()(c)\n",
        "c = Activation('relu')(c)\n",
        "c = MaxPooling2D(pool_size=(2,2))(c)\n",
        "c = Conv2D(64, (3,3), padding='same')(c)\n",
        "c = Conv2D(64, (3,3), padding='same')(c)\n",
        "c = Conv2D(64, (3,3), padding='same')(c)\n",
        "c = BatchNormalization()(c)\n",
        "c = Activation('relu')(c)\n",
        "c = MaxPooling2D(pool_size=(2,2))(c)\n",
        "c = Conv2D(64, (3,3), padding='same')(c)\n",
        "c = Conv2D(64, (3,3), padding='same')(c)\n",
        "c = Conv2D(64, (3,3), padding='same')(c)\n",
        "c = BatchNormalization()(c)\n",
        "c = Activation('relu')(c)\n",
        "c = MaxPooling2D(pool_size=(2,2))(c)\n",
        "c = Flatten()(c)\n",
        "c = Dense(128, activation='relu')(c)\n",
        "c = Dropout(0.25)(c)\n",
        "c = Dense(256, activation='relu')(c)\n",
        "c = Dropout(0.25)(c)\n",
        "c = Dense(2, activation='sigmoid')(c)\n",
        "\n",
        "model = Model(input_, c)\n",
        "\n",
        "model.summary()\n",
        "model.compile(loss='binary_crossentropy', optimizer=RMSprop(learning_rate=1e-4),metrics=[\"acc\"])"
      ]
    },
    {
      "cell_type": "markdown",
      "metadata": {
        "id": "PzmJM-FMsHfJ"
      },
      "source": [
        "モデルの正規化"
      ]
    },
    {
      "cell_type": "code",
      "execution_count": 10,
      "metadata": {
        "id": "gw0lC_e3sFCs"
      },
      "outputs": [],
      "source": [
        "from keras.utils import np_utils\n",
        "import numpy as np\n",
        "\n",
        "categories = [\"left\",\"right\"]\n",
        "nb_classes = len(categories)\n",
        "\n",
        "X_train, X_test,y_train, y_test = np.load(\"/content/drive/MyDrive/test_caruta.npy\", allow_pickle=True)\n",
        "\n",
        "#データの正規化\n",
        "X_train = X_train.astype(\"float\") / 255\n",
        "X_test  = X_test.astype(\"float\")  / 255\n",
        "\n",
        "#kerasで扱えるようにcategoriesをベクトルに変換\n",
        "y_train = np_utils.to_categorical(y_train, nb_classes)\n",
        "y_test  = np_utils.to_categorical(y_test, nb_classes)"
      ]
    },
    {
      "cell_type": "markdown",
      "metadata": {
        "id": "X4fVLrxksM4d"
      },
      "source": [
        "モデルの学習"
      ]
    },
    {
      "cell_type": "code",
      "execution_count": 11,
      "metadata": {
        "id": "UeVnC8Q7sKnt",
        "colab": {
          "base_uri": "https://localhost:8080/"
        },
        "outputId": "9be35c40-2977-4bae-d1f3-2bf53a73f3a8"
      },
      "outputs": [
        {
          "output_type": "stream",
          "name": "stdout",
          "text": [
            "Epoch 1/30\n",
            "59/59 [==============================] - 508s 9s/step - loss: 0.4406 - acc: 0.8065 - val_loss: 0.7056 - val_acc: 0.5240\n",
            "Epoch 2/30\n",
            "59/59 [==============================] - 503s 9s/step - loss: 0.1745 - acc: 0.9366 - val_loss: 1.1155 - val_acc: 0.5240\n",
            "Epoch 3/30\n",
            "59/59 [==============================] - 502s 9s/step - loss: 0.0927 - acc: 0.9700 - val_loss: 1.9447 - val_acc: 0.5240\n",
            "Epoch 4/30\n",
            "59/59 [==============================] - 501s 8s/step - loss: 0.0651 - acc: 0.9863 - val_loss: 2.4367 - val_acc: 0.5240\n",
            "Epoch 5/30\n",
            "59/59 [==============================] - 512s 9s/step - loss: 0.0355 - acc: 0.9906 - val_loss: 2.7144 - val_acc: 0.5240\n",
            "Epoch 6/30\n",
            "59/59 [==============================] - 501s 9s/step - loss: 0.0260 - acc: 0.9932 - val_loss: 2.8998 - val_acc: 0.5240\n",
            "Epoch 7/30\n",
            "59/59 [==============================] - 501s 8s/step - loss: 0.0378 - acc: 0.9906 - val_loss: 1.6128 - val_acc: 0.5582\n",
            "Epoch 8/30\n",
            "59/59 [==============================] - 501s 8s/step - loss: 0.0198 - acc: 0.9932 - val_loss: 0.7734 - val_acc: 0.8185\n",
            "Epoch 9/30\n",
            "59/59 [==============================] - 543s 9s/step - loss: 0.0365 - acc: 0.9889 - val_loss: 0.0389 - val_acc: 0.9897\n",
            "Epoch 10/30\n",
            "59/59 [==============================] - 548s 9s/step - loss: 0.0235 - acc: 0.9906 - val_loss: 0.0679 - val_acc: 0.9863\n",
            "Epoch 11/30\n",
            "59/59 [==============================] - 546s 9s/step - loss: 0.0276 - acc: 0.9923 - val_loss: 0.0736 - val_acc: 0.9863\n",
            "Epoch 12/30\n",
            "59/59 [==============================] - 506s 9s/step - loss: 0.0142 - acc: 0.9949 - val_loss: 0.0440 - val_acc: 0.9829\n",
            "Epoch 13/30\n",
            "59/59 [==============================] - 507s 9s/step - loss: 0.0299 - acc: 0.9923 - val_loss: 0.0733 - val_acc: 0.9863\n",
            "Epoch 14/30\n",
            "59/59 [==============================] - 502s 9s/step - loss: 0.0441 - acc: 0.9906 - val_loss: 0.0730 - val_acc: 0.9897\n",
            "Epoch 15/30\n",
            "59/59 [==============================] - 500s 8s/step - loss: 0.0189 - acc: 0.9923 - val_loss: 0.0352 - val_acc: 0.9932\n",
            "Epoch 16/30\n",
            "59/59 [==============================] - 500s 8s/step - loss: 0.0151 - acc: 0.9949 - val_loss: 0.0989 - val_acc: 0.9863\n",
            "Epoch 17/30\n",
            "59/59 [==============================] - 497s 8s/step - loss: 0.0235 - acc: 0.9957 - val_loss: 0.0824 - val_acc: 0.9863\n",
            "Epoch 18/30\n",
            "59/59 [==============================] - 499s 8s/step - loss: 0.0119 - acc: 0.9957 - val_loss: 0.0739 - val_acc: 0.9897\n",
            "Epoch 19/30\n",
            "59/59 [==============================] - 499s 8s/step - loss: 0.0194 - acc: 0.9932 - val_loss: 0.0883 - val_acc: 0.9897\n",
            "Epoch 20/30\n",
            "59/59 [==============================] - 499s 8s/step - loss: 0.0168 - acc: 0.9966 - val_loss: 0.0566 - val_acc: 0.9897\n",
            "Epoch 21/30\n",
            "59/59 [==============================] - 500s 8s/step - loss: 0.0208 - acc: 0.9914 - val_loss: 0.7319 - val_acc: 0.8904\n",
            "Epoch 22/30\n",
            "59/59 [==============================] - 500s 8s/step - loss: 0.0235 - acc: 0.9949 - val_loss: 0.0980 - val_acc: 0.9897\n",
            "Epoch 23/30\n",
            "59/59 [==============================] - 501s 8s/step - loss: 0.0179 - acc: 0.9966 - val_loss: 0.0577 - val_acc: 0.9897\n",
            "Epoch 24/30\n",
            "59/59 [==============================] - 510s 9s/step - loss: 0.0150 - acc: 0.9957 - val_loss: 0.1503 - val_acc: 0.9692\n",
            "Epoch 25/30\n",
            "59/59 [==============================] - 523s 9s/step - loss: 0.0154 - acc: 0.9940 - val_loss: 0.1477 - val_acc: 0.9760\n",
            "Epoch 26/30\n",
            "59/59 [==============================] - 547s 9s/step - loss: 0.0208 - acc: 0.9949 - val_loss: 0.1108 - val_acc: 0.9863\n",
            "Epoch 27/30\n",
            "59/59 [==============================] - 549s 9s/step - loss: 0.0204 - acc: 0.9940 - val_loss: 0.1122 - val_acc: 0.9897\n",
            "Epoch 28/30\n",
            "59/59 [==============================] - 547s 9s/step - loss: 0.0121 - acc: 0.9974 - val_loss: 0.1911 - val_acc: 0.9692\n",
            "Epoch 29/30\n",
            "59/59 [==============================] - 547s 9s/step - loss: 0.0126 - acc: 0.9974 - val_loss: 0.0899 - val_acc: 0.9897\n",
            "Epoch 30/30\n",
            "59/59 [==============================] - 547s 9s/step - loss: 0.0148 - acc: 0.9974 - val_loss: 0.1137 - val_acc: 0.9897\n"
          ]
        }
      ],
      "source": [
        "model = model.fit(X_train,\n",
        "                  y_train,\n",
        "                  epochs=30,\n",
        "                  batch_size=20,\n",
        "                  validation_data=(X_test,y_test))"
      ]
    },
    {
      "cell_type": "code",
      "execution_count": 12,
      "metadata": {
        "id": "6aLjSi823yBY",
        "colab": {
          "base_uri": "https://localhost:8080/",
          "height": 545
        },
        "outputId": "002a3d17-3996-41b7-89df-aad01cb81f98"
      },
      "outputs": [
        {
          "output_type": "display_data",
          "data": {
            "text/plain": [
              "<Figure size 432x288 with 1 Axes>"
            ],
            "image/png": "[encoded data removed]"
          },
          "metadata": {
            "needs_background": "light"
          }
        },
        {
          "output_type": "display_data",
          "data": {
            "text/plain": [
              "<Figure size 432x288 with 1 Axes>"
            ],
            "image/png": "[encoded data removed]"
          },
          "metadata": {
            "needs_background": "light"
          }
        }
      ],
      "source": [
        "import matplotlib.pyplot as plt\n",
        "\n",
        "acc = model.history['acc']\n",
        "val_acc = model.history['val_acc']\n",
        "loss = model.history['loss']\n",
        "val_loss = model.history['val_loss']\n",
        "\n",
        "epochs = range(len(acc))\n",
        "\n",
        "plt.plot(epochs, acc, 'bo', label='Training acc')\n",
        "plt.plot(epochs, val_acc, 'b', label='Validation acc')\n",
        "plt.title('Training and validation accuracy')\n",
        "plt.legend()\n",
        "plt.savefig('property')\n",
        "\n",
        "plt.figure()\n",
        "\n",
        "plt.plot(epochs, loss, 'bo', label='Training loss')\n",
        "plt.plot(epochs, val_loss, 'b', label='Validation loss')\n",
        "plt.title('Training and validation loss')\n",
        "plt.legend()\n",
        "plt.savefig('loss')"
      ]
    },
    {
      "cell_type": "code",
      "execution_count": null,
      "metadata": {
        "id": "9uMizVh4ptAu"
      },
      "outputs": [],
      "source": [
        "#モデルの保存\n",
        "\n",
        "json_string = model.model.to_json()\n",
        "open('/content/drive/MyDrive/caruta_predict.json', 'w').write(json_string)\n",
        "\n",
        "#重みの保存\n",
        "\n",
        "hdf5_file = \"/content/drive/MyDrive/caruta_predict.hdf5\"\n",
        "model.model.save(hdf5_file)"
      ]
    },
    {
      "cell_type": "code",
      "execution_count": null,
      "metadata": {
        "id": "ZmqzjO5CumdK"
      },
      "outputs": [],
      "source": [
        "from PIL import Image\n",
        "import os, glob\n",
        "import numpy as np\n",
        "import random, math\n",
        "\n",
        "# 画像が保存されているディレクトリのパス\n",
        "root_dir = \"/content/drive/MyDrive/result_range\"\n",
        "# 画像が保存されているフォルダ名\n",
        "categories =[\"left\",\"right\"]\n",
        "\n",
        "X = [] # 画像データ\n",
        "Y = [] # ラベルデータ\n",
        "\n",
        "# フォルダごとに分けられたファイルを収集\n",
        "#（categoriesのidxと、画像のファイルパスが紐づいたリストを生成）\n",
        "allfiles = []\n",
        "for idx, cat in enumerate(categories):\n",
        "    image_dir = root_dir + \"/\" + cat\n",
        "    files = glob.glob(image_dir + \"/*.jpg\")\n",
        "    for f in files:\n",
        "        allfiles.append((idx, f))\n",
        "\n",
        "for cat, fname in allfiles:\n",
        "    img = Image.open(fname)\n",
        "    img = img.convert(\"RGB\")\n",
        "    img = img.resize((224,224))\n",
        "    data = np.asarray(img)\n",
        "    X.append(data)\n",
        "    Y.append(cat)\n",
        "\n",
        "x = np.array(X)\n",
        "y = np.array(Y)\n",
        "\n",
        "np.save(\"/content/drive/MyDrive/tea_data_test_X_150.npy\", x)\n",
        "np.save(\"/content/drive/MyDrive/tea_data_test_Y_150.npy\", y)"
      ]
    },
    {
      "cell_type": "code",
      "execution_count": null,
      "metadata": {
        "colab": {
          "base_uri": "https://localhost:8080/"
        },
        "id": "YjUYF8hf7Lhd",
        "outputId": "e4543d73-f75a-4f8d-a653-e5200955c971"
      },
      "outputs": [
        {
          "output_type": "stream",
          "name": "stdout",
          "text": [
            "46/46 [==============================] - 89s 2s/step - loss: 348.4492 - acc: 0.6973\n",
            "loss= 348.44921875\n",
            "accuracy= 0.6972602605819702\n"
          ]
        }
      ],
      "source": [
        "# モデルの精度を測る\n",
        "\n",
        "#評価用のデータの読み込み\n",
        "test_X = np.load(\"/content/drive/MyDrive/tea_data_test_X_150.npy\")\n",
        "test_Y = np.load(\"/content/drive/MyDrive/tea_data_test_Y_150.npy\")\n",
        "\n",
        "#Yのデータをone-hotに変換\n",
        "from keras.utils import np_utils\n",
        "\n",
        "test_Y = np_utils.to_categorical(test_Y, 2)\n",
        "\n",
        "score = model.model.evaluate(x=test_X,y=test_Y)\n",
        "\n",
        "print('loss=', score[0])\n",
        "print('accuracy=', score[1])"
      ]
    }
  ],
  "metadata": {
    "colab": {
      "collapsed_sections": [],
      "provenance": [],
      "include_colab_link": true
    },
    "kernelspec": {
      "display_name": "Python 3",
      "name": "python3"
    },
    "language_info": {
      "name": "python"
    }
  },
  "nbformat": 4,
  "nbformat_minor": 0
}