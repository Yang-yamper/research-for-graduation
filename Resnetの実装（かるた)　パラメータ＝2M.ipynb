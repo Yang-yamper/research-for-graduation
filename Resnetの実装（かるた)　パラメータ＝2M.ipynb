{
  "nbformat": 4,
  "nbformat_minor": 0,
  "metadata": {
    "colab": {
      "provenance": [],
      "collapsed_sections": [],
      "authorship_tag": "ABX9TyOISt9Krx1Ns4mCfou92ChD",
      "include_colab_link": true
    },
    "kernelspec": {
      "name": "python3",
      "display_name": "Python 3"
    },
    "language_info": {
      "name": "python"
    }
  },
  "cells": [
    {
      "cell_type": "markdown",
      "metadata": {
        "id": "view-in-github",
        "colab_type": "text"
      },
      "source": [
        "<a href=\"https://colab.research.google.com/github/Yang-yamper/research-for-graduation/blob/main/Resnet%E3%81%AE%E5%AE%9F%E8%A3%85%EF%BC%88%E3%81%8B%E3%82%8B%E3%81%9F)%E3%80%80%E3%83%91%E3%83%A9%E3%83%A1%E3%83%BC%E3%82%BF%EF%BC%9D2M.ipynb\" target=\"_parent\"><img src=\"https://colab.research.google.com/assets/colab-badge.svg\" alt=\"Open In Colab\"/></a>"
      ]
    },
    {
      "cell_type": "code",
      "execution_count": 1,
      "metadata": {
        "colab": {
          "base_uri": "https://localhost:8080/"
        },
        "id": "TDOJAr_nbcdm",
        "outputId": "fa85d5d8-1bee-4eaf-bc72-714544b96ab5"
      },
      "outputs": [
        {
          "output_type": "stream",
          "name": "stdout",
          "text": [
            "Mounted at /content/drive\n"
          ]
        }
      ],
      "source": [
        "from google.colab import drive\n",
        "drive.mount('/content/drive')"
      ]
    },
    {
      "cell_type": "code",
      "source": [
        "import cv2\n",
        "import pandas as pd\n",
        "import numpy as np\n",
        "import matplotlib.pyplot as plt\n",
        "import os \n",
        "import keras\n",
        "from tqdm import tqdm, tqdm_notebook\n",
        "from keras.layers import Input, Conv2D, GlobalAveragePooling2D, BatchNormalization, MaxPooling2D\n",
        "from keras.layers import Add, Activation, Flatten, Dense, Dropout\n",
        "from keras.models import Model\n",
        "from keras.optimizers import RMSprop\n",
        "from keras.preprocessing.image import ImageDataGenerator"
      ],
      "metadata": {
        "id": "9D6R-MfXZvxE"
      },
      "execution_count": 2,
      "outputs": []
    },
    {
      "cell_type": "code",
      "execution_count": 3,
      "metadata": {
        "id": "JVc_wvNdrv7w",
        "colab": {
          "base_uri": "https://localhost:8080/"
        },
        "outputId": "7503318c-6c67-4c40-cc79-50c84b7e10c7"
      },
      "outputs": [
        {
          "output_type": "stream",
          "name": "stderr",
          "text": [
            "/usr/local/lib/python3.7/dist-packages/numpy/lib/npyio.py:528: VisibleDeprecationWarning: Creating an ndarray from ragged nested sequences (which is a list-or-tuple of lists-or-tuples-or ndarrays with different lengths or shapes) is deprecated. If you meant to do this, you must specify 'dtype=object' when creating the ndarray.\n",
            "  arr = np.asanyarray(arr)\n"
          ]
        }
      ],
      "source": [
        "from PIL import Image\n",
        "import os, glob\n",
        "import numpy as np\n",
        "import random, math\n",
        "\n",
        "#画像が保存されているルートディレクトリのパス\n",
        "root_dir = \"/content/drive/MyDrive/result_range\"\n",
        "# 商品名\n",
        "categories = [\"left\",\"right\"]\n",
        "\n",
        "# 画像データ用配列\n",
        "X = []\n",
        "# ラベルデータ用配列\n",
        "Y = []\n",
        "\n",
        "#画像データごとにadd_sample()を呼び出し、X,Yの配列を返す関数\n",
        "def make_sample(files):\n",
        "    global X, Y\n",
        "    X = []\n",
        "    Y = []\n",
        "    for cat, fname in files:\n",
        "        add_sample(cat, fname)\n",
        "    return np.array(X), np.array(Y)\n",
        "\n",
        "#渡された画像データを読み込んでXに格納し、また、\n",
        "#画像データに対応するcategoriesのidxをY格納する関数\n",
        "def add_sample(cat, fname):\n",
        "    img = Image.open(fname)\n",
        "    img = img.convert(\"RGB\")\n",
        "    img = img.resize((250,250))\n",
        "    data = np.asarray(img)\n",
        "    X.append(data)\n",
        "    Y.append(cat)\n",
        "\n",
        "#全データ格納用配列\n",
        "allfiles = []\n",
        "\n",
        "#カテゴリ配列の各値と、それに対応するidxを認識し、全データをallfilesにまとめる\n",
        "for idx, cat in enumerate(categories):\n",
        "    image_dir = root_dir + \"/\" + cat\n",
        "    files = glob.glob(image_dir + \"/*.jpg\")\n",
        "    for f in files:\n",
        "        allfiles.append((idx, f))\n",
        "\n",
        "#シャッフル後、学習データと検証データに分ける\n",
        "random.shuffle(allfiles)\n",
        "th = math.floor(len(allfiles) * 0.8)\n",
        "train = allfiles[0:th]\n",
        "test  = allfiles[th:]\n",
        "X_train, y_train = make_sample(train)\n",
        "X_test, y_test = make_sample(test)\n",
        "xy = (X_train, X_test, y_train, y_test)\n",
        "#データを保存する（データの名前を「tea_data.npy」としている）\n",
        "np.save(\"/content/drive/MyDrive/tea_data.npy\", xy)"
      ]
    },
    {
      "cell_type": "code",
      "execution_count": 4,
      "metadata": {
        "id": "gw0lC_e3sFCs"
      },
      "outputs": [],
      "source": [
        "from keras.utils import np_utils\n",
        "import numpy as np\n",
        "\n",
        "categories = [\"left\",\"right\"]\n",
        "nb_classes = len(categories)\n",
        "\n",
        "X_train, X_test,y_train, y_test = np.load(\"/content/drive/MyDrive/tea_data.npy\", allow_pickle=True)\n",
        "\n",
        "#データの正規化\n",
        "X_train = X_train.astype(\"float\") / 255\n",
        "X_test  = X_test.astype(\"float\")  / 255\n",
        "\n",
        "#kerasで扱えるようにcategoriesをベクトルに変換\n",
        "y_train = np_utils.to_categorical(y_train, nb_classes)\n",
        "y_test  = np_utils.to_categorical(y_test, nb_classes)"
      ]
    },
    {
      "cell_type": "code",
      "source": [
        "#res block\n",
        "def resblock(x, filters, kernel_size):\n",
        "    x_ = Conv2D(filters, kernel_size, padding='same')(x)\n",
        "    x_ = BatchNormalization()(x_)\n",
        "    x_ = Activation(\"relu\")(x_)\n",
        "    x_ = Conv2D(filters, kernel_size, padding='same')(x_)\n",
        "    x = Add()([x_, x])\n",
        "    x = BatchNormalization()(x)\n",
        "    x = Activation(\"relu\")(x)\n",
        "    return x\n",
        "\n",
        "#cnnの構築\n",
        "input_ = Input(shape=(250, 250,3))#横の数、縦の数、RGB\n",
        "\n",
        "c = Conv2D(2, (3,3), padding='same')(input_)\n",
        "c = BatchNormalization()(c)\n",
        "c = Activation('relu')(c)\n",
        "c = resblock(c,filters=2, kernel_size=(3, 3))\n",
        "c = MaxPooling2D(pool_size=(2,2))(c)\n",
        "c = Flatten()(c)\n",
        "c = Dense(64, activation='relu')(c)\n",
        "c = Dropout(0.2)(c)\n",
        "c = Dense(2, activation='sigmoid')(c)\n",
        "\n",
        "model = Model(input_, c)\n",
        "\n",
        "model.summary()\n",
        "model.compile(loss='binary_crossentropy', optimizer=RMSprop(learning_rate=1e-4),metrics=[\"acc\"])"
      ],
      "metadata": {
        "colab": {
          "base_uri": "https://localhost:8080/"
        },
        "id": "FgxTAU8QZyhg",
        "outputId": "12ec39e9-0ecf-4b41-e400-7cb06d14688a"
      },
      "execution_count": 15,
      "outputs": [
        {
          "output_type": "stream",
          "name": "stdout",
          "text": [
            "Model: \"model_4\"\n",
            "__________________________________________________________________________________________________\n",
            " Layer (type)                   Output Shape         Param #     Connected to                     \n",
            "==================================================================================================\n",
            " input_6 (InputLayer)           [(None, 250, 250, 3  0           []                               \n",
            "                                )]                                                                \n",
            "                                                                                                  \n",
            " conv2d_15 (Conv2D)             (None, 250, 250, 2)  56          ['input_6[0][0]']                \n",
            "                                                                                                  \n",
            " batch_normalization_14 (BatchN  (None, 250, 250, 2)  8          ['conv2d_15[0][0]']              \n",
            " ormalization)                                                                                    \n",
            "                                                                                                  \n",
            " activation_14 (Activation)     (None, 250, 250, 2)  0           ['batch_normalization_14[0][0]'] \n",
            "                                                                                                  \n",
            " conv2d_16 (Conv2D)             (None, 250, 250, 2)  38          ['activation_14[0][0]']          \n",
            "                                                                                                  \n",
            " batch_normalization_15 (BatchN  (None, 250, 250, 2)  8          ['conv2d_16[0][0]']              \n",
            " ormalization)                                                                                    \n",
            "                                                                                                  \n",
            " activation_15 (Activation)     (None, 250, 250, 2)  0           ['batch_normalization_15[0][0]'] \n",
            "                                                                                                  \n",
            " conv2d_17 (Conv2D)             (None, 250, 250, 2)  38          ['activation_15[0][0]']          \n",
            "                                                                                                  \n",
            " add_5 (Add)                    (None, 250, 250, 2)  0           ['conv2d_17[0][0]',              \n",
            "                                                                  'activation_14[0][0]']          \n",
            "                                                                                                  \n",
            " batch_normalization_16 (BatchN  (None, 250, 250, 2)  8          ['add_5[0][0]']                  \n",
            " ormalization)                                                                                    \n",
            "                                                                                                  \n",
            " activation_16 (Activation)     (None, 250, 250, 2)  0           ['batch_normalization_16[0][0]'] \n",
            "                                                                                                  \n",
            " max_pooling2d_4 (MaxPooling2D)  (None, 125, 125, 2)  0          ['activation_16[0][0]']          \n",
            "                                                                                                  \n",
            " flatten_4 (Flatten)            (None, 31250)        0           ['max_pooling2d_4[0][0]']        \n",
            "                                                                                                  \n",
            " dense_8 (Dense)                (None, 64)           2000064     ['flatten_4[0][0]']              \n",
            "                                                                                                  \n",
            " dropout_4 (Dropout)            (None, 64)           0           ['dense_8[0][0]']                \n",
            "                                                                                                  \n",
            " dense_9 (Dense)                (None, 2)            130         ['dropout_4[0][0]']              \n",
            "                                                                                                  \n",
            "==================================================================================================\n",
            "Total params: 2,000,350\n",
            "Trainable params: 2,000,338\n",
            "Non-trainable params: 12\n",
            "__________________________________________________________________________________________________\n"
          ]
        }
      ]
    },
    {
      "cell_type": "code",
      "source": [
        "history = model.fit(X_train, y_train\n",
        "                   , batch_size = 20\n",
        "                   , epochs = 30\n",
        "                   , validation_split = 0.3\n",
        "                   , verbose = 1)"
      ],
      "metadata": {
        "colab": {
          "base_uri": "https://localhost:8080/"
        },
        "id": "8WUTMBZjZ0vf",
        "outputId": "fe53d519-269e-435c-e854-d806a2087859"
      },
      "execution_count": 16,
      "outputs": [
        {
          "output_type": "stream",
          "name": "stdout",
          "text": [
            "Epoch 1/30\n",
            "41/41 [==============================] - 68s 2s/step - loss: 0.5830 - acc: 0.7907 - val_loss: 1.5038 - val_acc: 0.4701\n",
            "Epoch 2/30\n",
            "41/41 [==============================] - 65s 2s/step - loss: 0.2347 - acc: 0.9058 - val_loss: 0.6985 - val_acc: 0.4843\n",
            "Epoch 3/30\n",
            "41/41 [==============================] - 66s 2s/step - loss: 0.1404 - acc: 0.9388 - val_loss: 0.6378 - val_acc: 0.5641\n",
            "Epoch 4/30\n",
            "41/41 [==============================] - 65s 2s/step - loss: 0.0999 - acc: 0.9633 - val_loss: 0.3510 - val_acc: 0.8718\n",
            "Epoch 5/30\n",
            "41/41 [==============================] - 65s 2s/step - loss: 0.0572 - acc: 0.9829 - val_loss: 0.2051 - val_acc: 0.9316\n",
            "Epoch 6/30\n",
            "41/41 [==============================] - 65s 2s/step - loss: 0.0453 - acc: 0.9865 - val_loss: 0.1427 - val_acc: 0.9544\n",
            "Epoch 7/30\n",
            "41/41 [==============================] - 65s 2s/step - loss: 0.0418 - acc: 0.9890 - val_loss: 0.1201 - val_acc: 0.9687\n",
            "Epoch 8/30\n",
            "41/41 [==============================] - 65s 2s/step - loss: 0.0376 - acc: 0.9890 - val_loss: 0.0868 - val_acc: 0.9687\n",
            "Epoch 9/30\n",
            "41/41 [==============================] - 65s 2s/step - loss: 0.0398 - acc: 0.9878 - val_loss: 0.0641 - val_acc: 0.9744\n",
            "Epoch 10/30\n",
            "41/41 [==============================] - 65s 2s/step - loss: 0.0193 - acc: 0.9951 - val_loss: 0.3257 - val_acc: 0.9003\n",
            "Epoch 11/30\n",
            "41/41 [==============================] - 65s 2s/step - loss: 0.0273 - acc: 0.9939 - val_loss: 0.0558 - val_acc: 0.9801\n",
            "Epoch 12/30\n",
            "41/41 [==============================] - 68s 2s/step - loss: 0.0244 - acc: 0.9939 - val_loss: 0.0583 - val_acc: 0.9801\n",
            "Epoch 13/30\n",
            "41/41 [==============================] - 64s 2s/step - loss: 0.0145 - acc: 0.9963 - val_loss: 0.1111 - val_acc: 0.9630\n",
            "Epoch 14/30\n",
            "41/41 [==============================] - 64s 2s/step - loss: 0.0228 - acc: 0.9951 - val_loss: 0.0555 - val_acc: 0.9772\n",
            "Epoch 15/30\n",
            "41/41 [==============================] - 64s 2s/step - loss: 0.0173 - acc: 0.9951 - val_loss: 0.0726 - val_acc: 0.9744\n",
            "Epoch 16/30\n",
            "41/41 [==============================] - 65s 2s/step - loss: 0.0111 - acc: 0.9951 - val_loss: 0.0982 - val_acc: 0.9801\n",
            "Epoch 17/30\n",
            "41/41 [==============================] - 65s 2s/step - loss: 0.0243 - acc: 0.9939 - val_loss: 0.0941 - val_acc: 0.9801\n",
            "Epoch 18/30\n",
            "41/41 [==============================] - 65s 2s/step - loss: 0.0141 - acc: 0.9963 - val_loss: 0.1474 - val_acc: 0.9715\n",
            "Epoch 19/30\n",
            "41/41 [==============================] - 65s 2s/step - loss: 0.0153 - acc: 0.9963 - val_loss: 0.1980 - val_acc: 0.9544\n",
            "Epoch 20/30\n",
            "41/41 [==============================] - 65s 2s/step - loss: 0.0210 - acc: 0.9951 - val_loss: 0.0986 - val_acc: 0.9744\n",
            "Epoch 21/30\n",
            "41/41 [==============================] - 65s 2s/step - loss: 0.0156 - acc: 0.9976 - val_loss: 0.0967 - val_acc: 0.9715\n",
            "Epoch 22/30\n",
            "41/41 [==============================] - 65s 2s/step - loss: 0.0186 - acc: 0.9939 - val_loss: 0.0834 - val_acc: 0.9772\n",
            "Epoch 23/30\n",
            "41/41 [==============================] - 65s 2s/step - loss: 0.0150 - acc: 0.9963 - val_loss: 0.0993 - val_acc: 0.9801\n",
            "Epoch 24/30\n",
            "41/41 [==============================] - 65s 2s/step - loss: 0.0150 - acc: 0.9951 - val_loss: 0.1009 - val_acc: 0.9772\n",
            "Epoch 25/30\n",
            "41/41 [==============================] - 65s 2s/step - loss: 0.0194 - acc: 0.9939 - val_loss: 0.0870 - val_acc: 0.9744\n",
            "Epoch 26/30\n",
            "41/41 [==============================] - 65s 2s/step - loss: 0.0153 - acc: 0.9951 - val_loss: 0.0912 - val_acc: 0.9772\n",
            "Epoch 27/30\n",
            "41/41 [==============================] - 65s 2s/step - loss: 0.0155 - acc: 0.9963 - val_loss: 0.1006 - val_acc: 0.9772\n",
            "Epoch 28/30\n",
            "41/41 [==============================] - 65s 2s/step - loss: 0.0144 - acc: 0.9963 - val_loss: 0.1008 - val_acc: 0.9801\n",
            "Epoch 29/30\n",
            "41/41 [==============================] - 65s 2s/step - loss: 0.0134 - acc: 0.9963 - val_loss: 0.1492 - val_acc: 0.9744\n",
            "Epoch 30/30\n",
            "41/41 [==============================] - 65s 2s/step - loss: 0.0190 - acc: 0.9963 - val_loss: 0.1047 - val_acc: 0.9772\n"
          ]
        }
      ]
    },
    {
      "cell_type": "code",
      "source": [
        "from keras import layers, models\n",
        "import matplotlib.pyplot as plt\n",
        "\n",
        "acc = history.history['acc']\n",
        "val_acc = history.history['val_acc']\n",
        "loss = history.history['loss']\n",
        "val_loss = history.history['val_loss']\n",
        "\n",
        "epochs = range(len(acc))\n",
        "\n",
        "plt.plot(epochs, acc, 'bo', label='Training acc')\n",
        "plt.plot(epochs, val_acc, 'b', label='Validation acc')\n",
        "plt.title('Training and validation accuracy')\n",
        "plt.legend()\n",
        "plt.savefig('property')\n",
        "\n",
        "plt.figure()\n",
        "\n",
        "plt.plot(epochs, loss, 'bo', label='Training loss')\n",
        "plt.plot(epochs, val_loss, 'b', label='Validation loss')\n",
        "plt.title('Training and validation loss')\n",
        "plt.legend()\n",
        "plt.savefig('loss')"
      ],
      "metadata": {
        "colab": {
          "base_uri": "https://localhost:8080/",
          "height": 545
        },
        "id": "pqvhKNuaWyiQ",
        "outputId": "70048fbe-b06b-411c-e709-666b3bc89a1e"
      },
      "execution_count": 14,
      "outputs": [
        {
          "output_type": "display_data",
          "data": {
            "text/plain": [
              "<Figure size 432x288 with 1 Axes>"
            ],
            "image/png": "[encoded data removed]"
          },
          "metadata": {
            "needs_background": "light"
          }
        },
        {
          "output_type": "display_data",
          "data": {
            "text/plain": [
              "<Figure size 432x288 with 1 Axes>"
            ],
            "image/png": "[encoded data removed]"
          },
          "metadata": {
            "needs_background": "light"
          }
        }
      ]
    }
  ]
}