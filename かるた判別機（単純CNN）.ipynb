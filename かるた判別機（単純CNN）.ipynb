{
  "cells": [
    {
      "cell_type": "markdown",
      "metadata": {
        "id": "view-in-github",
        "colab_type": "text"
      },
      "source": [
        "<a href=\"https://colab.research.google.com/github/Yang-yamper/research-for-graduation/blob/main/%E3%81%8B%E3%82%8B%E3%81%9F%E5%88%A4%E5%88%A5%E6%A9%9F%EF%BC%88%E5%8D%98%E7%B4%94CNN%EF%BC%89.ipynb\" target=\"_parent\"><img src=\"https://colab.research.google.com/assets/colab-badge.svg\" alt=\"Open In Colab\"/></a>"
      ]
    },
    {
      "cell_type": "code",
      "execution_count": 1,
      "metadata": {
        "colab": {
          "base_uri": "https://localhost:8080/"
        },
        "id": "iMyI3o9_zgqG",
        "outputId": "4841ee46-2a2d-4e84-f2ad-db82fd997a4c"
      },
      "outputs": [
        {
          "output_type": "stream",
          "name": "stdout",
          "text": [
            "Mounted at /content/drive\n"
          ]
        }
      ],
      "source": [
        "from google.colab import drive\n",
        "drive.mount('/content/drive')"
      ]
    },
    {
      "cell_type": "code",
      "execution_count": 2,
      "metadata": {
        "colab": {
          "base_uri": "https://localhost:8080/"
        },
        "id": "JVc_wvNdrv7w",
        "outputId": "210a0202-88fc-4c5a-cf60-014c8f7bf772"
      },
      "outputs": [
        {
          "output_type": "stream",
          "name": "stderr",
          "text": [
            "/usr/local/lib/python3.7/dist-packages/numpy/lib/npyio.py:528: VisibleDeprecationWarning: Creating an ndarray from ragged nested sequences (which is a list-or-tuple of lists-or-tuples-or ndarrays with different lengths or shapes) is deprecated. If you meant to do this, you must specify 'dtype=object' when creating the ndarray.\n",
            "  arr = np.asanyarray(arr)\n"
          ]
        }
      ],
      "source": [
        "from PIL import Image\n",
        "import os, glob\n",
        "import numpy as np\n",
        "import random, math\n",
        "\n",
        "#画像が保存されているルートディレクトリのパス\n",
        "root_dir = \"/content/drive/MyDrive/result_range\"\n",
        "# 商品名\n",
        "categories = [\"left\",\"right\"]\n",
        "\n",
        "# 画像データ用配列\n",
        "X = []\n",
        "# ラベルデータ用配列\n",
        "Y = []\n",
        "\n",
        "#画像データごとにadd_sample()を呼び出し、X,Yの配列を返す関数\n",
        "def make_sample(files):\n",
        "    global X, Y\n",
        "    X = []\n",
        "    Y = []\n",
        "    for cat, fname in files:\n",
        "        add_sample(cat, fname)\n",
        "    return np.array(X), np.array(Y)\n",
        "\n",
        "#渡された画像データを読み込んでXに格納し、また、\n",
        "#画像データに対応するcategoriesのidxをY格納する関数\n",
        "def add_sample(cat, fname):\n",
        "    img = Image.open(fname)\n",
        "    img = img.convert(\"RGB\")\n",
        "    img = img.resize((224,224))\n",
        "    data = np.asarray(img)\n",
        "    X.append(data)\n",
        "    Y.append(cat)\n",
        "\n",
        "#全データ格納用配列\n",
        "allfiles = []\n",
        "\n",
        "#カテゴリ配列の各値と、それに対応するidxを認識し、全データをallfilesにまとめる\n",
        "for idx, cat in enumerate(categories):\n",
        "    image_dir = root_dir + \"/\" + cat\n",
        "    files = glob.glob(image_dir + \"/*.jpg\")\n",
        "    for f in files:\n",
        "        allfiles.append((idx, f))\n",
        "\n",
        "#シャッフル後、学習データと検証データに分ける\n",
        "random.shuffle(allfiles)\n",
        "th = math.floor(len(allfiles) * 0.8)\n",
        "train = allfiles[0:th]\n",
        "test  = allfiles[th:]\n",
        "X_train, y_train = make_sample(train)\n",
        "X_test, y_test = make_sample(test)\n",
        "xy = (X_train, X_test, y_train, y_test)\n",
        "#データを保存する（データの名前を「tea_data.npy」としている）\n",
        "np.save(\"/content/drive/MyDrive/test_caruta.npy\", xy)"
      ]
    },
    {
      "cell_type": "markdown",
      "metadata": {
        "id": "oKmXIL87r_ex"
      },
      "source": [
        "モデルの構築"
      ]
    },
    {
      "cell_type": "code",
      "execution_count": 3,
      "metadata": {
        "colab": {
          "base_uri": "https://localhost:8080/"
        },
        "id": "Mx6LEnCXr9-c",
        "outputId": "9cdc7823-2c00-48d9-c657-4b78270037ec"
      },
      "outputs": [
        {
          "output_type": "stream",
          "name": "stdout",
          "text": [
            "Model: \"sequential\"\n",
            "_________________________________________________________________\n",
            " Layer (type)                Output Shape              Param #   \n",
            "=================================================================\n",
            " conv2d (Conv2D)             (None, 222, 222, 32)      896       \n",
            "                                                                 \n",
            " max_pooling2d (MaxPooling2D  (None, 111, 111, 32)     0         \n",
            " )                                                               \n",
            "                                                                 \n",
            " conv2d_1 (Conv2D)           (None, 109, 109, 64)      18496     \n",
            "                                                                 \n",
            " max_pooling2d_1 (MaxPooling  (None, 54, 54, 64)       0         \n",
            " 2D)                                                             \n",
            "                                                                 \n",
            " conv2d_2 (Conv2D)           (None, 52, 52, 128)       73856     \n",
            "                                                                 \n",
            " max_pooling2d_2 (MaxPooling  (None, 26, 26, 128)      0         \n",
            " 2D)                                                             \n",
            "                                                                 \n",
            " conv2d_3 (Conv2D)           (None, 24, 24, 128)       147584    \n",
            "                                                                 \n",
            " max_pooling2d_3 (MaxPooling  (None, 12, 12, 128)      0         \n",
            " 2D)                                                             \n",
            "                                                                 \n",
            " conv2d_4 (Conv2D)           (None, 10, 10, 256)       295168    \n",
            "                                                                 \n",
            " max_pooling2d_4 (MaxPooling  (None, 5, 5, 256)        0         \n",
            " 2D)                                                             \n",
            "                                                                 \n",
            " conv2d_5 (Conv2D)           (None, 3, 3, 512)         1180160   \n",
            "                                                                 \n",
            " max_pooling2d_5 (MaxPooling  (None, 1, 1, 512)        0         \n",
            " 2D)                                                             \n",
            "                                                                 \n",
            " flatten (Flatten)           (None, 512)               0         \n",
            "                                                                 \n",
            " dense (Dense)               (None, 1024)              525312    \n",
            "                                                                 \n",
            " dense_1 (Dense)             (None, 2)                 2050      \n",
            "                                                                 \n",
            "=================================================================\n",
            "Total params: 2,243,522\n",
            "Trainable params: 2,243,522\n",
            "Non-trainable params: 0\n",
            "_________________________________________________________________\n"
          ]
        }
      ],
      "source": [
        "from keras import layers, models\n",
        "\n",
        "model = models.Sequential()\n",
        "model.add(layers.Conv2D(32,(3,3),activation=\"relu\",input_shape=(224,224,3)))\n",
        "model.add(layers.MaxPooling2D((2,2)))\n",
        "model.add(layers.Conv2D(64,(3,3),activation=\"relu\"))\n",
        "model.add(layers.MaxPooling2D((2,2)))\n",
        "model.add(layers.Conv2D(128,(3,3),activation=\"relu\"))\n",
        "model.add(layers.MaxPooling2D((2,2)))\n",
        "model.add(layers.Conv2D(128,(3,3),activation=\"relu\"))\n",
        "model.add(layers.MaxPooling2D((2,2)))\n",
        "model.add(layers.Conv2D(256,(3,3),activation=\"relu\"))\n",
        "model.add(layers.MaxPooling2D((2,2)))\n",
        "model.add(layers.Conv2D(512,(3,3),activation=\"relu\"))\n",
        "model.add(layers.MaxPooling2D((2,2)))\n",
        "model.add(layers.Flatten())\n",
        "model.add(layers.Dense(1024,activation=\"relu\"))\n",
        "model.add(layers.Dense(2,activation=\"sigmoid\")) #分類先の種類分設定\n",
        "\n",
        "#モデル構成の確認\n",
        "model.summary()"
      ]
    },
    {
      "cell_type": "markdown",
      "metadata": {
        "id": "nhGrjSSgsDi-"
      },
      "source": [
        "モデルのコンパイル"
      ]
    },
    {
      "cell_type": "code",
      "execution_count": 4,
      "metadata": {
        "id": "CdkqIyvBsBNU"
      },
      "outputs": [],
      "source": [
        "from tensorflow.keras.optimizers import RMSprop\n",
        "\n",
        "model.compile(loss=\"categorical_crossentropy\",optimizer=RMSprop(learning_rate=1e-4),metrics=[\"acc\"])"
      ]
    },
    {
      "cell_type": "markdown",
      "metadata": {
        "id": "PzmJM-FMsHfJ"
      },
      "source": [
        "モデルの正規化"
      ]
    },
    {
      "cell_type": "code",
      "execution_count": 5,
      "metadata": {
        "id": "gw0lC_e3sFCs"
      },
      "outputs": [],
      "source": [
        "from keras.utils import np_utils\n",
        "import numpy as np\n",
        "\n",
        "categories = [\"left\",\"right\"]\n",
        "nb_classes = len(categories)\n",
        "\n",
        "X_train, X_test,y_train, y_test = np.load(\"/content/drive/MyDrive/test_caruta.npy\", allow_pickle=True)\n",
        "\n",
        "#データの正規化\n",
        "X_train = X_train.astype(\"float\") / 255\n",
        "X_test  = X_test.astype(\"float\")  / 255\n",
        "\n",
        "#kerasで扱えるようにcategoriesをベクトルに変換\n",
        "y_train = np_utils.to_categorical(y_train, nb_classes)\n",
        "y_test  = np_utils.to_categorical(y_test, nb_classes)"
      ]
    },
    {
      "cell_type": "markdown",
      "metadata": {
        "id": "X4fVLrxksM4d"
      },
      "source": [
        "モデルの学習"
      ]
    },
    {
      "cell_type": "code",
      "execution_count": 6,
      "metadata": {
        "id": "UeVnC8Q7sKnt",
        "colab": {
          "base_uri": "https://localhost:8080/"
        },
        "outputId": "aac03a7e-59b4-465e-a3fb-b6b84e74b074"
      },
      "outputs": [
        {
          "output_type": "stream",
          "name": "stdout",
          "text": [
            "Epoch 1/30\n",
            "59/59 [==============================] - 135s 2s/step - loss: 0.6391 - acc: 0.6464 - val_loss: 0.5018 - val_acc: 0.7911\n",
            "Epoch 2/30\n",
            "59/59 [==============================] - 132s 2s/step - loss: 0.4234 - acc: 0.8219 - val_loss: 0.2720 - val_acc: 0.9007\n",
            "Epoch 3/30\n",
            "59/59 [==============================] - 133s 2s/step - loss: 0.3242 - acc: 0.8579 - val_loss: 0.2492 - val_acc: 0.9144\n",
            "Epoch 4/30\n",
            "59/59 [==============================] - 138s 2s/step - loss: 0.2431 - acc: 0.8930 - val_loss: 0.1478 - val_acc: 0.9452\n",
            "Epoch 5/30\n",
            "59/59 [==============================] - 132s 2s/step - loss: 0.1785 - acc: 0.9255 - val_loss: 0.3094 - val_acc: 0.8459\n",
            "Epoch 6/30\n",
            "59/59 [==============================] - 134s 2s/step - loss: 0.1467 - acc: 0.9435 - val_loss: 0.0895 - val_acc: 0.9658\n",
            "Epoch 7/30\n",
            "59/59 [==============================] - 134s 2s/step - loss: 0.0924 - acc: 0.9640 - val_loss: 0.2549 - val_acc: 0.9110\n",
            "Epoch 8/30\n",
            "59/59 [==============================] - 134s 2s/step - loss: 0.0991 - acc: 0.9598 - val_loss: 0.0889 - val_acc: 0.9658\n",
            "Epoch 9/30\n",
            "59/59 [==============================] - 133s 2s/step - loss: 0.0560 - acc: 0.9820 - val_loss: 0.0532 - val_acc: 0.9760\n",
            "Epoch 10/30\n",
            "59/59 [==============================] - 135s 2s/step - loss: 0.0557 - acc: 0.9803 - val_loss: 0.0350 - val_acc: 0.9897\n",
            "Epoch 11/30\n",
            "59/59 [==============================] - 132s 2s/step - loss: 0.0438 - acc: 0.9846 - val_loss: 0.4991 - val_acc: 0.8425\n",
            "Epoch 12/30\n",
            "59/59 [==============================] - 135s 2s/step - loss: 0.0483 - acc: 0.9803 - val_loss: 0.0533 - val_acc: 0.9795\n",
            "Epoch 13/30\n",
            "59/59 [==============================] - 134s 2s/step - loss: 0.0414 - acc: 0.9829 - val_loss: 0.0300 - val_acc: 0.9897\n",
            "Epoch 14/30\n",
            "59/59 [==============================] - 132s 2s/step - loss: 0.0467 - acc: 0.9795 - val_loss: 0.0300 - val_acc: 0.9932\n",
            "Epoch 15/30\n",
            "59/59 [==============================] - 134s 2s/step - loss: 0.0290 - acc: 0.9897 - val_loss: 0.0382 - val_acc: 0.9897\n",
            "Epoch 16/30\n",
            "59/59 [==============================] - 132s 2s/step - loss: 0.0405 - acc: 0.9829 - val_loss: 0.0326 - val_acc: 0.9863\n",
            "Epoch 17/30\n",
            "59/59 [==============================] - 135s 2s/step - loss: 0.0244 - acc: 0.9906 - val_loss: 0.0430 - val_acc: 0.9863\n",
            "Epoch 18/30\n",
            "59/59 [==============================] - 132s 2s/step - loss: 0.0425 - acc: 0.9880 - val_loss: 0.0293 - val_acc: 0.9932\n",
            "Epoch 19/30\n",
            "59/59 [==============================] - 134s 2s/step - loss: 0.0276 - acc: 0.9914 - val_loss: 0.0366 - val_acc: 0.9932\n",
            "Epoch 20/30\n",
            "59/59 [==============================] - 132s 2s/step - loss: 0.0306 - acc: 0.9872 - val_loss: 0.0328 - val_acc: 0.9897\n",
            "Epoch 21/30\n",
            "59/59 [==============================] - 134s 2s/step - loss: 0.0279 - acc: 0.9923 - val_loss: 0.0191 - val_acc: 0.9897\n",
            "Epoch 22/30\n",
            "59/59 [==============================] - 132s 2s/step - loss: 0.0330 - acc: 0.9880 - val_loss: 0.0445 - val_acc: 0.9897\n",
            "Epoch 23/30\n",
            "59/59 [==============================] - 134s 2s/step - loss: 0.0288 - acc: 0.9889 - val_loss: 0.0214 - val_acc: 0.9897\n",
            "Epoch 24/30\n",
            "59/59 [==============================] - 134s 2s/step - loss: 0.0268 - acc: 0.9914 - val_loss: 0.0300 - val_acc: 0.9863\n",
            "Epoch 25/30\n",
            "59/59 [==============================] - 132s 2s/step - loss: 0.0252 - acc: 0.9914 - val_loss: 0.0242 - val_acc: 0.9897\n",
            "Epoch 26/30\n",
            "59/59 [==============================] - 134s 2s/step - loss: 0.0253 - acc: 0.9914 - val_loss: 0.0222 - val_acc: 0.9897\n",
            "Epoch 27/30\n",
            "59/59 [==============================] - 132s 2s/step - loss: 0.0218 - acc: 0.9906 - val_loss: 0.0231 - val_acc: 0.9932\n",
            "Epoch 28/30\n",
            "59/59 [==============================] - 134s 2s/step - loss: 0.0178 - acc: 0.9940 - val_loss: 0.0387 - val_acc: 0.9897\n",
            "Epoch 29/30\n",
            "59/59 [==============================] - 132s 2s/step - loss: 0.0266 - acc: 0.9897 - val_loss: 0.5337 - val_acc: 0.8493\n",
            "Epoch 30/30\n",
            "59/59 [==============================] - 134s 2s/step - loss: 0.0226 - acc: 0.9897 - val_loss: 0.0628 - val_acc: 0.9829\n"
          ]
        }
      ],
      "source": [
        "model = model.fit(X_train,\n",
        "                  y_train,\n",
        "                  epochs=30,\n",
        "                  batch_size=20,\n",
        "                  validation_data=(X_test,y_test))"
      ]
    },
    {
      "cell_type": "code",
      "execution_count": 7,
      "metadata": {
        "id": "6aLjSi823yBY",
        "colab": {
          "base_uri": "https://localhost:8080/",
          "height": 545
        },
        "outputId": "b8cbfdf3-bb9e-4304-b8d0-09d4ac6de591"
      },
      "outputs": [
        {
          "output_type": "display_data",
          "data": {
            "text/plain": [
              "<Figure size 432x288 with 1 Axes>"
            ],
            "image/png": "[encoded data removed]"
          },
          "metadata": {
            "needs_background": "light"
          }
        },
        {
          "output_type": "display_data",
          "data": {
            "text/plain": [
              "<Figure size 432x288 with 1 Axes>"
            ],
            "image/png": "[encoded data removed]"
          },
          "metadata": {
            "needs_background": "light"
          }
        }
      ],
      "source": [
        "import matplotlib.pyplot as plt\n",
        "\n",
        "acc = model.history['acc']\n",
        "val_acc = model.history['val_acc']\n",
        "loss = model.history['loss']\n",
        "val_loss = model.history['val_loss']\n",
        "\n",
        "epochs = range(len(acc))\n",
        "\n",
        "plt.plot(epochs, acc, 'bo', label='Training acc')\n",
        "plt.plot(epochs, val_acc, 'b', label='Validation acc')\n",
        "plt.title('Training and validation accuracy')\n",
        "plt.legend()\n",
        "plt.savefig('property')\n",
        "\n",
        "plt.figure()\n",
        "\n",
        "plt.plot(epochs, loss, 'bo', label='Training loss')\n",
        "plt.plot(epochs, val_loss, 'b', label='Validation loss')\n",
        "plt.title('Training and validation loss')\n",
        "plt.legend()\n",
        "plt.savefig('loss')"
      ]
    },
    {
      "cell_type": "code",
      "execution_count": 8,
      "metadata": {
        "id": "9uMizVh4ptAu"
      },
      "outputs": [],
      "source": [
        "#モデルの保存\n",
        "\n",
        "json_string = model.model.to_json()\n",
        "open('/content/drive/MyDrive/caruta_predict.json', 'w').write(json_string)\n",
        "\n",
        "#重みの保存\n",
        "\n",
        "hdf5_file = \"/content/drive/MyDrive/caruta_predict.hdf5\"\n",
        "model.model.save(hdf5_file)"
      ]
    },
    {
      "cell_type": "code",
      "execution_count": 11,
      "metadata": {
        "id": "ZmqzjO5CumdK"
      },
      "outputs": [],
      "source": [
        "from PIL import Image\n",
        "import os, glob\n",
        "import numpy as np\n",
        "import random, math\n",
        "\n",
        "# 画像が保存されているディレクトリのパス\n",
        "root_dir = \"/content/drive/MyDrive/result_range\"\n",
        "# 画像が保存されているフォルダ名\n",
        "categories =[\"left\",\"right\"]\n",
        "\n",
        "X = [] # 画像データ\n",
        "Y = [] # ラベルデータ\n",
        "\n",
        "# フォルダごとに分けられたファイルを収集\n",
        "#（categoriesのidxと、画像のファイルパスが紐づいたリストを生成）\n",
        "allfiles = []\n",
        "for idx, cat in enumerate(categories):\n",
        "    image_dir = root_dir + \"/\" + cat\n",
        "    files = glob.glob(image_dir + \"/*.jpg\")\n",
        "    for f in files:\n",
        "        allfiles.append((idx, f))\n",
        "\n",
        "for cat, fname in allfiles:\n",
        "    img = Image.open(fname)\n",
        "    img = img.convert(\"RGB\")\n",
        "    img = img.resize((224,224))\n",
        "    data = np.asarray(img)\n",
        "    X.append(data)\n",
        "    Y.append(cat)\n",
        "\n",
        "x = np.array(X)\n",
        "y = np.array(Y)\n",
        "\n",
        "np.save(\"/content/drive/MyDrive/tea_data_test_X_150.npy\", x)\n",
        "np.save(\"/content/drive/MyDrive/tea_data_test_Y_150.npy\", y)"
      ]
    },
    {
      "cell_type": "code",
      "execution_count": 12,
      "metadata": {
        "id": "YjUYF8hf7Lhd",
        "colab": {
          "base_uri": "https://localhost:8080/"
        },
        "outputId": "14579108-3be2-4aab-a8b5-97c8d1283e28"
      },
      "outputs": [
        {
          "output_type": "stream",
          "name": "stdout",
          "text": [
            "46/46 [==============================] - 38s 815ms/step - loss: 7.8336 - acc: 0.9863\n",
            "loss= 7.833646774291992\n",
            "accuracy= 0.9863013625144958\n"
          ]
        }
      ],
      "source": [
        "# モデルの精度を測る\n",
        "\n",
        "#評価用のデータの読み込み\n",
        "test_X = np.load(\"/content/drive/MyDrive/tea_data_test_X_150.npy\")\n",
        "test_Y = np.load(\"/content/drive/MyDrive/tea_data_test_Y_150.npy\")\n",
        "\n",
        "#Yのデータをone-hotに変換\n",
        "from keras.utils import np_utils\n",
        "\n",
        "test_Y = np_utils.to_categorical(test_Y, 2)\n",
        "\n",
        "score = model.model.evaluate(x=test_X,y=test_Y)\n",
        "\n",
        "print('loss=', score[0])\n",
        "print('accuracy=', score[1])"
      ]
    },
    {
      "cell_type": "markdown",
      "metadata": {
        "id": "eUEekkdXxBSg"
      },
      "source": [
        "正しいジャケ写を選ばせるプログラム"
      ]
    },
    {
      "cell_type": "code",
      "execution_count": null,
      "metadata": {
        "id": "UwHE19eV8cFb",
        "colab": {
          "base_uri": "https://localhost:8080/",
          "height": 263
        },
        "outputId": "0b9c8b7c-f70d-4184-e7a3-daf375fb8743"
      },
      "outputs": [
        {
          "name": "stdout",
          "output_type": "stream",
          "text": [
            "/content/drive/MyDrive/result_range/right/sample_video_img_248_8.71.jpg\n"
          ]
        },
        {
          "output_type": "error",
          "ename": "AttributeError",
          "evalue": "ignored",
          "traceback": [
            "\u001b[0;31m---------------------------------------------------------------------------\u001b[0m",
            "\u001b[0;31mAttributeError\u001b[0m                            Traceback (most recent call last)",
            "\u001b[0;32m<ipython-input-23-43e5b4796e51>\u001b[0m in \u001b[0;36m<module>\u001b[0;34m\u001b[0m\n\u001b[1;32m     15\u001b[0m \u001b[0;31m#画像を読み込む\u001b[0m\u001b[0;34m\u001b[0m\u001b[0;34m\u001b[0m\u001b[0;34m\u001b[0m\u001b[0m\n\u001b[1;32m     16\u001b[0m \u001b[0mimg_path\u001b[0m \u001b[0;34m=\u001b[0m \u001b[0mstr\u001b[0m\u001b[0;34m(\u001b[0m\u001b[0minput\u001b[0m\u001b[0;34m(\u001b[0m\u001b[0;34m)\u001b[0m\u001b[0;34m)\u001b[0m\u001b[0;34m\u001b[0m\u001b[0;34m\u001b[0m\u001b[0m\n\u001b[0;32m---> 17\u001b[0;31m \u001b[0mimg\u001b[0m \u001b[0;34m=\u001b[0m \u001b[0mimage\u001b[0m\u001b[0;34m.\u001b[0m\u001b[0mload_img\u001b[0m\u001b[0;34m(\u001b[0m\u001b[0mimg_path\u001b[0m\u001b[0;34m,\u001b[0m\u001b[0mtarget_size\u001b[0m\u001b[0;34m=\u001b[0m\u001b[0;34m(\u001b[0m\u001b[0;36m200\u001b[0m\u001b[0;34m,\u001b[0m \u001b[0;36m200\u001b[0m\u001b[0;34m,\u001b[0m \u001b[0;36m3\u001b[0m\u001b[0;34m)\u001b[0m\u001b[0;34m)\u001b[0m\u001b[0;34m\u001b[0m\u001b[0;34m\u001b[0m\u001b[0m\n\u001b[0m\u001b[1;32m     18\u001b[0m \u001b[0mx\u001b[0m \u001b[0;34m=\u001b[0m \u001b[0mimage\u001b[0m\u001b[0;34m.\u001b[0m\u001b[0mimg_to_array\u001b[0m\u001b[0;34m(\u001b[0m\u001b[0mimg\u001b[0m\u001b[0;34m)\u001b[0m\u001b[0;34m\u001b[0m\u001b[0;34m\u001b[0m\u001b[0m\n\u001b[1;32m     19\u001b[0m \u001b[0mx\u001b[0m \u001b[0;34m=\u001b[0m \u001b[0mnp\u001b[0m\u001b[0;34m.\u001b[0m\u001b[0mexpand_dims\u001b[0m\u001b[0;34m(\u001b[0m\u001b[0mx\u001b[0m\u001b[0;34m,\u001b[0m \u001b[0maxis\u001b[0m\u001b[0;34m=\u001b[0m\u001b[0;36m0\u001b[0m\u001b[0;34m)\u001b[0m\u001b[0;34m\u001b[0m\u001b[0;34m\u001b[0m\u001b[0m\n",
            "\u001b[0;31mAttributeError\u001b[0m: module 'keras.preprocessing.image' has no attribute 'load_img'"
          ]
        }
      ],
      "source": [
        "#綾鷹を選ばせるプログラム\n",
        "\n",
        "from keras import models\n",
        "from keras.models import model_from_json\n",
        "from keras.preprocessing import image\n",
        "import numpy as np\n",
        "\n",
        "#保存したモデルの読み込み\n",
        "model = model_from_json(open('/content/drive/MyDrive/caruta_predict.json').read())\n",
        "#保存した重みの読み込み\n",
        "model.load_weights('/content/drive/MyDrive/caruta_predict.hdf5')\n",
        "\n",
        "categories = [\"left\",\"right\"]\n",
        "\n",
        "#画像を読み込む\n",
        "img_path = str(input())\n",
        "img = image.load_img(img_path,target_size=(200, 200, 3))\n",
        "x = image.img_to_array(img)\n",
        "x = np.expand_dims(x, axis=0)\n",
        "\n",
        "#予測\n",
        "features = model.predict(x)\n",
        "\n",
        "#予測結果によって処理を分ける\n",
        "if features[0,0] == 1:\n",
        "    print (\"選ばれたのは、leftでした。\")\n",
        "\n",
        "else:\n",
        "    print (\"選ばれたのは、rightでした。\")"
      ]
    }
  ],
  "metadata": {
    "colab": {
      "provenance": [],
      "collapsed_sections": [],
      "include_colab_link": true
    },
    "kernelspec": {
      "display_name": "Python 3",
      "name": "python3"
    },
    "language_info": {
      "name": "python"
    }
  },
  "nbformat": 4,
  "nbformat_minor": 0
}