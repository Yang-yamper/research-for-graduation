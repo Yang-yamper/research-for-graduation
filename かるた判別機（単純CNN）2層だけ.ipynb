{
  "cells": [
    {
      "cell_type": "markdown",
      "metadata": {
        "id": "view-in-github",
        "colab_type": "text"
      },
      "source": [
        "<a href=\"https://colab.research.google.com/github/Yang-yamper/research-for-graduation/blob/main/%E3%81%8B%E3%82%8B%E3%81%9F%E5%88%A4%E5%88%A5%E6%A9%9F%EF%BC%88%E5%8D%98%E7%B4%94CNN%EF%BC%892%E5%B1%A4%E3%81%A0%E3%81%91.ipynb\" target=\"_parent\"><img src=\"https://colab.research.google.com/assets/colab-badge.svg\" alt=\"Open In Colab\"/></a>"
      ]
    },
    {
      "cell_type": "code",
      "execution_count": 5,
      "metadata": {
        "colab": {
          "base_uri": "https://localhost:8080/"
        },
        "id": "iMyI3o9_zgqG",
        "outputId": "3d8f63d3-6aee-4f56-f6dc-0126b94d13b3"
      },
      "outputs": [
        {
          "output_type": "stream",
          "name": "stdout",
          "text": [
            "Mounted at /content/drive\n"
          ]
        }
      ],
      "source": [
        "from google.colab import drive\n",
        "drive.mount('/content/drive')"
      ]
    },
    {
      "cell_type": "code",
      "execution_count": 6,
      "metadata": {
        "colab": {
          "base_uri": "https://localhost:8080/"
        },
        "id": "JVc_wvNdrv7w",
        "outputId": "6ea1a52d-4659-4f61-c08d-0790cd34124e"
      },
      "outputs": [
        {
          "output_type": "stream",
          "name": "stderr",
          "text": [
            "/usr/local/lib/python3.7/dist-packages/numpy/lib/npyio.py:528: VisibleDeprecationWarning: Creating an ndarray from ragged nested sequences (which is a list-or-tuple of lists-or-tuples-or ndarrays with different lengths or shapes) is deprecated. If you meant to do this, you must specify 'dtype=object' when creating the ndarray.\n",
            "  arr = np.asanyarray(arr)\n"
          ]
        }
      ],
      "source": [
        "from PIL import Image\n",
        "import os, glob\n",
        "import numpy as np\n",
        "import random, math\n",
        "\n",
        "#画像が保存されているルートディレクトリのパス\n",
        "root_dir = \"/content/drive/MyDrive/result_range\"\n",
        "# 商品名\n",
        "categories = [\"left\",\"right\"]\n",
        "\n",
        "# 画像データ用配列\n",
        "X = []\n",
        "# ラベルデータ用配列\n",
        "Y = []\n",
        "\n",
        "#画像データごとにadd_sample()を呼び出し、X,Yの配列を返す関数\n",
        "def make_sample(files):\n",
        "    global X, Y\n",
        "    X = []\n",
        "    Y = []\n",
        "    for cat, fname in files:\n",
        "        add_sample(cat, fname)\n",
        "    return np.array(X), np.array(Y)\n",
        "\n",
        "#渡された画像データを読み込んでXに格納し、また、\n",
        "#画像データに対応するcategoriesのidxをY格納する関数\n",
        "def add_sample(cat, fname):\n",
        "    img = Image.open(fname)\n",
        "    img = img.convert(\"RGB\")\n",
        "    img = img.resize((224,224))\n",
        "    data = np.asarray(img)\n",
        "    X.append(data)\n",
        "    Y.append(cat)\n",
        "\n",
        "#全データ格納用配列\n",
        "allfiles = []\n",
        "\n",
        "#カテゴリ配列の各値と、それに対応するidxを認識し、全データをallfilesにまとめる\n",
        "for idx, cat in enumerate(categories):\n",
        "    image_dir = root_dir + \"/\" + cat\n",
        "    files = glob.glob(image_dir + \"/*.jpg\")\n",
        "    for f in files:\n",
        "        allfiles.append((idx, f))\n",
        "\n",
        "#シャッフル後、学習データと検証データに分ける\n",
        "random.shuffle(allfiles)\n",
        "th = math.floor(len(allfiles) * 0.8)\n",
        "train = allfiles[0:th]\n",
        "test  = allfiles[th:]\n",
        "X_train, y_train = make_sample(train)\n",
        "X_test, y_test = make_sample(test)\n",
        "xy = (X_train, X_test, y_train, y_test)\n",
        "#データを保存する（データの名前を「tea_data.npy」としている）\n",
        "np.save(\"/content/drive/MyDrive/test_caruta.npy\", xy)"
      ]
    },
    {
      "cell_type": "markdown",
      "metadata": {
        "id": "oKmXIL87r_ex"
      },
      "source": [
        "モデルの構築"
      ]
    },
    {
      "cell_type": "code",
      "execution_count": 7,
      "metadata": {
        "colab": {
          "base_uri": "https://localhost:8080/"
        },
        "id": "Mx6LEnCXr9-c",
        "outputId": "88c3c2a7-8eb5-4e6a-ab72-854586127382"
      },
      "outputs": [
        {
          "output_type": "stream",
          "name": "stdout",
          "text": [
            "Model: \"sequential_1\"\n",
            "_________________________________________________________________\n",
            " Layer (type)                Output Shape              Param #   \n",
            "=================================================================\n",
            " conv2d_2 (Conv2D)           (None, 222, 222, 8)       224       \n",
            "                                                                 \n",
            " max_pooling2d_2 (MaxPooling  (None, 111, 111, 8)      0         \n",
            " 2D)                                                             \n",
            "                                                                 \n",
            " conv2d_3 (Conv2D)           (None, 109, 109, 8)       584       \n",
            "                                                                 \n",
            " max_pooling2d_3 (MaxPooling  (None, 54, 54, 8)        0         \n",
            " 2D)                                                             \n",
            "                                                                 \n",
            " flatten_1 (Flatten)         (None, 23328)             0         \n",
            "                                                                 \n",
            " dense_2 (Dense)             (None, 64)                1493056   \n",
            "                                                                 \n",
            " dense_3 (Dense)             (None, 2)                 130       \n",
            "                                                                 \n",
            "=================================================================\n",
            "Total params: 1,493,994\n",
            "Trainable params: 1,493,994\n",
            "Non-trainable params: 0\n",
            "_________________________________________________________________\n"
          ]
        }
      ],
      "source": [
        "from keras import layers, models\n",
        "\n",
        "model = models.Sequential()\n",
        "model.add(layers.Conv2D(8,(3,3),activation=\"relu\",input_shape=(224,224,3)))\n",
        "model.add(layers.MaxPooling2D((2,2)))\n",
        "model.add(layers.Conv2D(8,(3,3),activation=\"relu\"))\n",
        "model.add(layers.MaxPooling2D((2,2)))\n",
        "model.add(layers.Flatten())\n",
        "model.add(layers.Dense(64,activation=\"relu\"))\n",
        "model.add(layers.Dense(2,activation=\"sigmoid\")) #分類先の種類分設定\n",
        "\n",
        "#モデル構成の確認\n",
        "model.summary()"
      ]
    },
    {
      "cell_type": "markdown",
      "metadata": {
        "id": "nhGrjSSgsDi-"
      },
      "source": [
        "モデルのコンパイル"
      ]
    },
    {
      "cell_type": "code",
      "execution_count": 8,
      "metadata": {
        "id": "CdkqIyvBsBNU"
      },
      "outputs": [],
      "source": [
        "from tensorflow.keras.optimizers import RMSprop\n",
        "\n",
        "model.compile(loss=\"categorical_crossentropy\",optimizer=RMSprop(learning_rate=1e-4),metrics=[\"acc\"])"
      ]
    },
    {
      "cell_type": "markdown",
      "metadata": {
        "id": "PzmJM-FMsHfJ"
      },
      "source": [
        "モデルの正規化"
      ]
    },
    {
      "cell_type": "code",
      "execution_count": 9,
      "metadata": {
        "id": "gw0lC_e3sFCs"
      },
      "outputs": [],
      "source": [
        "from keras.utils import np_utils\n",
        "import numpy as np\n",
        "\n",
        "categories = [\"left\",\"right\"]\n",
        "nb_classes = len(categories)\n",
        "\n",
        "X_train, X_test,y_train, y_test = np.load(\"/content/drive/MyDrive/test_caruta.npy\", allow_pickle=True)\n",
        "\n",
        "#データの正規化\n",
        "X_train = X_train.astype(\"float\") / 255\n",
        "X_test  = X_test.astype(\"float\")  / 255\n",
        "\n",
        "#kerasで扱えるようにcategoriesをベクトルに変換\n",
        "y_train = np_utils.to_categorical(y_train, nb_classes)\n",
        "y_test  = np_utils.to_categorical(y_test, nb_classes)"
      ]
    },
    {
      "cell_type": "markdown",
      "metadata": {
        "id": "X4fVLrxksM4d"
      },
      "source": [
        "モデルの学習"
      ]
    },
    {
      "cell_type": "code",
      "execution_count": 10,
      "metadata": {
        "id": "UeVnC8Q7sKnt",
        "colab": {
          "base_uri": "https://localhost:8080/"
        },
        "outputId": "775ecd53-f107-4da3-c5f3-160bb63332d0"
      },
      "outputs": [
        {
          "output_type": "stream",
          "name": "stdout",
          "text": [
            "Epoch 1/30\n",
            "59/59 [==============================] - 33s 539ms/step - loss: 0.4937 - acc: 0.8082 - val_loss: 0.3488 - val_acc: 0.8356\n",
            "Epoch 2/30\n",
            "59/59 [==============================] - 29s 487ms/step - loss: 0.2591 - acc: 0.8938 - val_loss: 0.2200 - val_acc: 0.9075\n",
            "Epoch 3/30\n",
            "59/59 [==============================] - 33s 559ms/step - loss: 0.1813 - acc: 0.9281 - val_loss: 0.1601 - val_acc: 0.9486\n",
            "Epoch 4/30\n",
            "59/59 [==============================] - 29s 487ms/step - loss: 0.1386 - acc: 0.9563 - val_loss: 0.1682 - val_acc: 0.9452\n",
            "Epoch 5/30\n",
            "59/59 [==============================] - 31s 525ms/step - loss: 0.1014 - acc: 0.9752 - val_loss: 0.1457 - val_acc: 0.9521\n",
            "Epoch 6/30\n",
            "59/59 [==============================] - 31s 525ms/step - loss: 0.0775 - acc: 0.9829 - val_loss: 0.1077 - val_acc: 0.9589\n",
            "Epoch 7/30\n",
            "59/59 [==============================] - 29s 488ms/step - loss: 0.0551 - acc: 0.9880 - val_loss: 0.1930 - val_acc: 0.9075\n",
            "Epoch 8/30\n",
            "59/59 [==============================] - 31s 525ms/step - loss: 0.0425 - acc: 0.9897 - val_loss: 0.0846 - val_acc: 0.9726\n",
            "Epoch 9/30\n",
            "59/59 [==============================] - 29s 489ms/step - loss: 0.0355 - acc: 0.9914 - val_loss: 0.0650 - val_acc: 0.9760\n",
            "Epoch 10/30\n",
            "59/59 [==============================] - 29s 489ms/step - loss: 0.0257 - acc: 0.9940 - val_loss: 0.0732 - val_acc: 0.9760\n",
            "Epoch 11/30\n",
            "59/59 [==============================] - 31s 525ms/step - loss: 0.0237 - acc: 0.9957 - val_loss: 0.0578 - val_acc: 0.9795\n",
            "Epoch 12/30\n",
            "59/59 [==============================] - 29s 490ms/step - loss: 0.0191 - acc: 0.9957 - val_loss: 0.0624 - val_acc: 0.9795\n",
            "Epoch 13/30\n",
            "59/59 [==============================] - 33s 562ms/step - loss: 0.0173 - acc: 0.9966 - val_loss: 0.0479 - val_acc: 0.9829\n",
            "Epoch 14/30\n",
            "59/59 [==============================] - 29s 489ms/step - loss: 0.0172 - acc: 0.9940 - val_loss: 0.0567 - val_acc: 0.9760\n",
            "Epoch 15/30\n",
            "59/59 [==============================] - 29s 489ms/step - loss: 0.0180 - acc: 0.9932 - val_loss: 0.0548 - val_acc: 0.9795\n",
            "Epoch 16/30\n",
            "59/59 [==============================] - 33s 562ms/step - loss: 0.0138 - acc: 0.9940 - val_loss: 0.0600 - val_acc: 0.9829\n",
            "Epoch 17/30\n",
            "59/59 [==============================] - 29s 488ms/step - loss: 0.0152 - acc: 0.9940 - val_loss: 0.0570 - val_acc: 0.9795\n",
            "Epoch 18/30\n",
            "59/59 [==============================] - 31s 525ms/step - loss: 0.0133 - acc: 0.9957 - val_loss: 0.0587 - val_acc: 0.9829\n",
            "Epoch 19/30\n",
            "59/59 [==============================] - 29s 488ms/step - loss: 0.0121 - acc: 0.9957 - val_loss: 0.2074 - val_acc: 0.9144\n",
            "Epoch 20/30\n",
            "59/59 [==============================] - 29s 489ms/step - loss: 0.0138 - acc: 0.9949 - val_loss: 0.0480 - val_acc: 0.9863\n",
            "Epoch 21/30\n",
            "59/59 [==============================] - 31s 525ms/step - loss: 0.0116 - acc: 0.9957 - val_loss: 0.0530 - val_acc: 0.9863\n",
            "Epoch 22/30\n",
            "59/59 [==============================] - 29s 489ms/step - loss: 0.0129 - acc: 0.9949 - val_loss: 0.0995 - val_acc: 0.9726\n",
            "Epoch 23/30\n",
            "59/59 [==============================] - 31s 528ms/step - loss: 0.0125 - acc: 0.9957 - val_loss: 0.0328 - val_acc: 0.9897\n",
            "Epoch 24/30\n",
            "59/59 [==============================] - 31s 524ms/step - loss: 0.0138 - acc: 0.9949 - val_loss: 0.0392 - val_acc: 0.9897\n",
            "Epoch 25/30\n",
            "59/59 [==============================] - 29s 488ms/step - loss: 0.0108 - acc: 0.9949 - val_loss: 0.0638 - val_acc: 0.9829\n",
            "Epoch 26/30\n",
            "59/59 [==============================] - 33s 562ms/step - loss: 0.0147 - acc: 0.9940 - val_loss: 0.0595 - val_acc: 0.9795\n",
            "Epoch 27/30\n",
            "59/59 [==============================] - 29s 488ms/step - loss: 0.0106 - acc: 0.9957 - val_loss: 0.0596 - val_acc: 0.9863\n",
            "Epoch 28/30\n",
            "59/59 [==============================] - 29s 495ms/step - loss: 0.0128 - acc: 0.9949 - val_loss: 0.0334 - val_acc: 0.9829\n",
            "Epoch 29/30\n",
            "59/59 [==============================] - 31s 512ms/step - loss: 0.0137 - acc: 0.9949 - val_loss: 0.0358 - val_acc: 0.9897\n",
            "Epoch 30/30\n",
            "59/59 [==============================] - 29s 488ms/step - loss: 0.0098 - acc: 0.9966 - val_loss: 0.0800 - val_acc: 0.9795\n"
          ]
        }
      ],
      "source": [
        "model = model.fit(X_train,\n",
        "                  y_train,\n",
        "                  epochs=30,\n",
        "                  batch_size=20,\n",
        "                  validation_data=(X_test,y_test))"
      ]
    },
    {
      "cell_type": "code",
      "execution_count": 11,
      "metadata": {
        "id": "6aLjSi823yBY",
        "colab": {
          "base_uri": "https://localhost:8080/",
          "height": 545
        },
        "outputId": "fff3f86b-adf7-4a7d-f590-73b36e2f5216"
      },
      "outputs": [
        {
          "output_type": "display_data",
          "data": {
            "text/plain": [
              "<Figure size 432x288 with 1 Axes>"
            ],
            "image/png": "[encoded data removed]"
          },
          "metadata": {
            "needs_background": "light"
          }
        },
        {
          "output_type": "display_data",
          "data": {
            "text/plain": [
              "<Figure size 432x288 with 1 Axes>"
            ],
            "image/png": "[encoded data removed]"
          },
          "metadata": {
            "needs_background": "light"
          }
        }
      ],
      "source": [
        "import matplotlib.pyplot as plt\n",
        "\n",
        "acc = model.history['acc']\n",
        "val_acc = model.history['val_acc']\n",
        "loss = model.history['loss']\n",
        "val_loss = model.history['val_loss']\n",
        "\n",
        "epochs = range(len(acc))\n",
        "\n",
        "plt.plot(epochs, acc, 'bo', label='Training acc')\n",
        "plt.plot(epochs, val_acc, 'b', label='Validation acc')\n",
        "plt.title('Training and validation accuracy')\n",
        "plt.legend()\n",
        "plt.savefig('property')\n",
        "\n",
        "plt.figure()\n",
        "\n",
        "plt.plot(epochs, loss, 'bo', label='Training loss')\n",
        "plt.plot(epochs, val_loss, 'b', label='Validation loss')\n",
        "plt.title('Training and validation loss')\n",
        "plt.legend()\n",
        "plt.savefig('loss')"
      ]
    },
    {
      "cell_type": "code",
      "execution_count": 12,
      "metadata": {
        "id": "9uMizVh4ptAu"
      },
      "outputs": [],
      "source": [
        "#モデルの保存\n",
        "\n",
        "json_string = model.model.to_json()\n",
        "open('/content/drive/MyDrive/caruta_predict.json', 'w').write(json_string)\n",
        "\n",
        "#重みの保存\n",
        "\n",
        "hdf5_file = \"/content/drive/MyDrive/caruta_predict.hdf5\"\n",
        "model.model.save(hdf5_file)"
      ]
    },
    {
      "cell_type": "code",
      "execution_count": 13,
      "metadata": {
        "id": "ZmqzjO5CumdK"
      },
      "outputs": [],
      "source": [
        "from PIL import Image\n",
        "import os, glob\n",
        "import numpy as np\n",
        "import random, math\n",
        "\n",
        "# 画像が保存されているディレクトリのパス\n",
        "root_dir = \"/content/drive/MyDrive/result_range\"\n",
        "# 画像が保存されているフォルダ名\n",
        "categories =[\"left\",\"right\"]\n",
        "\n",
        "X = [] # 画像データ\n",
        "Y = [] # ラベルデータ\n",
        "\n",
        "# フォルダごとに分けられたファイルを収集\n",
        "#（categoriesのidxと、画像のファイルパスが紐づいたリストを生成）\n",
        "allfiles = []\n",
        "for idx, cat in enumerate(categories):\n",
        "    image_dir = root_dir + \"/\" + cat\n",
        "    files = glob.glob(image_dir + \"/*.jpg\")\n",
        "    for f in files:\n",
        "        allfiles.append((idx, f))\n",
        "\n",
        "for cat, fname in allfiles:\n",
        "    img = Image.open(fname)\n",
        "    img = img.convert(\"RGB\")\n",
        "    img = img.resize((224,224))\n",
        "    data = np.asarray(img)\n",
        "    X.append(data)\n",
        "    Y.append(cat)\n",
        "\n",
        "x = np.array(X)\n",
        "y = np.array(Y)\n",
        "\n",
        "np.save(\"/content/drive/MyDrive/tea_data_test_X_150.npy\", x)\n",
        "np.save(\"/content/drive/MyDrive/tea_data_test_Y_150.npy\", y)"
      ]
    },
    {
      "cell_type": "code",
      "execution_count": 14,
      "metadata": {
        "id": "YjUYF8hf7Lhd",
        "colab": {
          "base_uri": "https://localhost:8080/"
        },
        "outputId": "d35933ac-2a38-4557-bdae-1e7995910dcc"
      },
      "outputs": [
        {
          "output_type": "stream",
          "name": "stdout",
          "text": [
            "46/46 [==============================] - 14s 296ms/step - loss: 6.4163 - acc: 0.9911\n",
            "loss= 6.416262626647949\n",
            "accuracy= 0.9910959005355835\n"
          ]
        }
      ],
      "source": [
        "# モデルの精度を測る\n",
        "\n",
        "#評価用のデータの読み込み\n",
        "test_X = np.load(\"/content/drive/MyDrive/tea_data_test_X_150.npy\")\n",
        "test_Y = np.load(\"/content/drive/MyDrive/tea_data_test_Y_150.npy\")\n",
        "\n",
        "#Yのデータをone-hotに変換\n",
        "from keras.utils import np_utils\n",
        "\n",
        "test_Y = np_utils.to_categorical(test_Y, 2)\n",
        "\n",
        "score = model.model.evaluate(x=test_X,y=test_Y)\n",
        "\n",
        "print('loss=', score[0])\n",
        "print('accuracy=', score[1])"
      ]
    },
    {
      "cell_type": "markdown",
      "metadata": {
        "id": "eUEekkdXxBSg"
      },
      "source": [
        "正しいジャケ写を選ばせるプログラム"
      ]
    }
  ],
  "metadata": {
    "colab": {
      "provenance": [],
      "collapsed_sections": [],
      "include_colab_link": true
    },
    "kernelspec": {
      "display_name": "Python 3",
      "name": "python3"
    },
    "language_info": {
      "name": "python"
    }
  },
  "nbformat": 4,
  "nbformat_minor": 0
}