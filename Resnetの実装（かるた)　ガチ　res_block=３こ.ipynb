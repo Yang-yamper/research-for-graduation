{
  "nbformat": 4,
  "nbformat_minor": 0,
  "metadata": {
    "colab": {
      "provenance": [],
      "authorship_tag": "ABX9TyOhenc87IPlR2/+QjOOB60H",
      "include_colab_link": true
    },
    "kernelspec": {
      "name": "python3",
      "display_name": "Python 3"
    },
    "language_info": {
      "name": "python"
    }
  },
  "cells": [
    {
      "cell_type": "markdown",
      "metadata": {
        "id": "view-in-github",
        "colab_type": "text"
      },
      "source": [
        "<a href=\"https://colab.research.google.com/github/Yang-yamper/research-for-graduation/blob/main/Resnet%E3%81%AE%E5%AE%9F%E8%A3%85%EF%BC%88%E3%81%8B%E3%82%8B%E3%81%9F)%E3%80%80%E3%82%AC%E3%83%81%E3%80%80res_block%3D%EF%BC%93%E3%81%93.ipynb\" target=\"_parent\"><img src=\"https://colab.research.google.com/assets/colab-badge.svg\" alt=\"Open In Colab\"/></a>"
      ]
    },
    {
      "cell_type": "code",
      "execution_count": 2,
      "metadata": {
        "colab": {
          "base_uri": "https://localhost:8080/"
        },
        "id": "TDOJAr_nbcdm",
        "outputId": "cf171420-859c-4fed-d42e-f0661006eef1"
      },
      "outputs": [
        {
          "output_type": "stream",
          "name": "stdout",
          "text": [
            "Mounted at /content/drive\n"
          ]
        }
      ],
      "source": [
        "from google.colab import drive\n",
        "drive.mount('/content/drive')"
      ]
    },
    {
      "cell_type": "code",
      "source": [
        "import cv2\n",
        "import pandas as pd\n",
        "import numpy as np\n",
        "import matplotlib.pyplot as plt\n",
        "import os \n",
        "import keras\n",
        "from tqdm import tqdm, tqdm_notebook\n",
        "from keras.layers import Input, Conv2D, GlobalAveragePooling2D, BatchNormalization, MaxPooling2D\n",
        "from keras.layers import Add, Activation, Flatten, Dense, Dropout\n",
        "from keras.models import Model\n",
        "from keras.optimizers import RMSprop\n",
        "from keras.preprocessing.image import ImageDataGenerator"
      ],
      "metadata": {
        "id": "9D6R-MfXZvxE"
      },
      "execution_count": 3,
      "outputs": []
    },
    {
      "cell_type": "code",
      "execution_count": 4,
      "metadata": {
        "id": "JVc_wvNdrv7w",
        "colab": {
          "base_uri": "https://localhost:8080/"
        },
        "outputId": "faed3d6e-ab01-4725-8a91-fed08fca56d5"
      },
      "outputs": [
        {
          "output_type": "stream",
          "name": "stderr",
          "text": [
            "/usr/local/lib/python3.8/dist-packages/numpy/lib/npyio.py:528: VisibleDeprecationWarning: Creating an ndarray from ragged nested sequences (which is a list-or-tuple of lists-or-tuples-or ndarrays with different lengths or shapes) is deprecated. If you meant to do this, you must specify 'dtype=object' when creating the ndarray.\n",
            "  arr = np.asanyarray(arr)\n"
          ]
        }
      ],
      "source": [
        "from PIL import Image\n",
        "import os, glob\n",
        "import numpy as np\n",
        "import random, math\n",
        "\n",
        "#画像が保存されているルートディレクトリのパス\n",
        "root_dir = \"/content/drive/MyDrive/result_range\"\n",
        "# 商品名\n",
        "categories = [\"left\",\"right\"]\n",
        "\n",
        "# 画像データ用配列\n",
        "X = []\n",
        "# ラベルデータ用配列\n",
        "Y = []\n",
        "\n",
        "#画像データごとにadd_sample()を呼び出し、X,Yの配列を返す関数\n",
        "def make_sample(files):\n",
        "    global X, Y\n",
        "    X = []\n",
        "    Y = []\n",
        "    for cat, fname in files:\n",
        "        add_sample(cat, fname)\n",
        "    return np.array(X), np.array(Y)\n",
        "\n",
        "#渡された画像データを読み込んでXに格納し、また、\n",
        "#画像データに対応するcategoriesのidxをY格納する関数\n",
        "def add_sample(cat, fname):\n",
        "    img = Image.open(fname)\n",
        "    img = img.convert(\"RGB\")\n",
        "    img = img.resize((224,224))\n",
        "    data = np.asarray(img)\n",
        "    X.append(data)\n",
        "    Y.append(cat)\n",
        "\n",
        "#全データ格納用配列\n",
        "allfiles = []\n",
        "\n",
        "#カテゴリ配列の各値と、それに対応するidxを認識し、全データをallfilesにまとめる\n",
        "for idx, cat in enumerate(categories):\n",
        "    image_dir = root_dir + \"/\" + cat\n",
        "    files = glob.glob(image_dir + \"/*.jpg\")\n",
        "    for f in files:\n",
        "        allfiles.append((idx, f))\n",
        "\n",
        "#シャッフル後、学習データと検証データに分ける\n",
        "random.shuffle(allfiles)\n",
        "th = math.floor(len(allfiles) * 0.8)\n",
        "train = allfiles[0:th]\n",
        "test  = allfiles[th:]\n",
        "X_train, y_train = make_sample(train)\n",
        "X_test, y_test = make_sample(test)\n",
        "xy = (X_train, X_test, y_train, y_test)\n",
        "#データを保存する（データの名前を「tea_data.npy」としている）\n",
        "np.save(\"/content/drive/MyDrive/tea_data.npy\", xy)"
      ]
    },
    {
      "cell_type": "code",
      "execution_count": 5,
      "metadata": {
        "id": "gw0lC_e3sFCs"
      },
      "outputs": [],
      "source": [
        "from keras.utils import np_utils\n",
        "import numpy as np\n",
        "\n",
        "categories = [\"left\",\"right\"]\n",
        "nb_classes = len(categories)\n",
        "\n",
        "X_train, X_test,y_train, y_test = np.load(\"/content/drive/MyDrive/tea_data.npy\", allow_pickle=True)\n",
        "\n",
        "#データの正規化\n",
        "X_train = X_train.astype(\"float\") / 255\n",
        "X_test  = X_test.astype(\"float\")  / 255\n",
        "\n",
        "#kerasで扱えるようにcategoriesをベクトルに変換\n",
        "y_train = np_utils.to_categorical(y_train, nb_classes)\n",
        "y_test  = np_utils.to_categorical(y_test, nb_classes)"
      ]
    },
    {
      "cell_type": "code",
      "source": [
        "#res block\n",
        "def resblock(x, filters, kernel_size):\n",
        "    x_ = Conv2D(filters, kernel_size, padding='same')(x)\n",
        "    x_ = BatchNormalization()(x_)\n",
        "    x_ = Activation(\"relu\")(x_)\n",
        "    x_ = Conv2D(filters, kernel_size, padding='same')(x)\n",
        "    x = Add()([x_, x])\n",
        "    x = BatchNormalization()(x)\n",
        "    x = Activation(\"relu\")(x)\n",
        "    return x\n",
        "\n",
        "#cnnの構築\n",
        "input_ = Input(shape=(224,224,3))#横の数、縦の数、RGB\n",
        "\n",
        "c = Conv2D(8, (3,3), padding='same')(input_)\n",
        "c = BatchNormalization()(c)\n",
        "c = Activation('relu')(c)\n",
        "c = resblock(c,filters=8,kernel_size=(3, 3))\n",
        "c = MaxPooling2D(pool_size=(2,2))(c)\n",
        "c = Conv2D(8, (3,3), padding='same')(c)\n",
        "c = BatchNormalization()(c)\n",
        "c = Activation('relu')(c)\n",
        "c = resblock(c,filters=8, kernel_size=(3, 3))\n",
        "c = MaxPooling2D(pool_size=(2,2))(c)\n",
        "c = Conv2D(8, (3,3), padding='same')(c)\n",
        "c = BatchNormalization()(c)\n",
        "c = Activation('relu')(c)\n",
        "c = resblock(c,filters=8, kernel_size=(3, 3))\n",
        "c = MaxPooling2D(pool_size=(2,2))(c)\n",
        "c = Flatten()(c)\n",
        "c = Dense(256, activation='relu')(c)\n",
        "c = Dropout(0.2)(c)\n",
        "c = Dense(2, activation='sigmoid')(c)\n",
        "\n",
        "model = Model(input_, c)\n",
        "\n",
        "model.summary()\n",
        "model.compile(loss='binary_crossentropy', optimizer=RMSprop(learning_rate=1e-4),metrics=[\"acc\"])"
      ],
      "metadata": {
        "colab": {
          "base_uri": "https://localhost:8080/"
        },
        "id": "FgxTAU8QZyhg",
        "outputId": "fa516168-9e55-4ba8-87af-a3a335147dc5"
      },
      "execution_count": 17,
      "outputs": [
        {
          "output_type": "stream",
          "name": "stdout",
          "text": [
            "Model: \"model_6\"\n",
            "__________________________________________________________________________________________________\n",
            " Layer (type)                   Output Shape         Param #     Connected to                     \n",
            "==================================================================================================\n",
            " input_11 (InputLayer)          [(None, 224, 224, 3  0           []                               \n",
            "                                )]                                                                \n",
            "                                                                                                  \n",
            " conv2d_75 (Conv2D)             (None, 224, 224, 8)  224         ['input_11[0][0]']               \n",
            "                                                                                                  \n",
            " batch_normalization_71 (BatchN  (None, 224, 224, 8)  32         ['conv2d_75[0][0]']              \n",
            " ormalization)                                                                                    \n",
            "                                                                                                  \n",
            " activation_71 (Activation)     (None, 224, 224, 8)  0           ['batch_normalization_71[0][0]'] \n",
            "                                                                                                  \n",
            " conv2d_77 (Conv2D)             (None, 224, 224, 8)  584         ['activation_71[0][0]']          \n",
            "                                                                                                  \n",
            " add_25 (Add)                   (None, 224, 224, 8)  0           ['conv2d_77[0][0]',              \n",
            "                                                                  'activation_71[0][0]']          \n",
            "                                                                                                  \n",
            " batch_normalization_73 (BatchN  (None, 224, 224, 8)  32         ['add_25[0][0]']                 \n",
            " ormalization)                                                                                    \n",
            "                                                                                                  \n",
            " activation_73 (Activation)     (None, 224, 224, 8)  0           ['batch_normalization_73[0][0]'] \n",
            "                                                                                                  \n",
            " max_pooling2d_21 (MaxPooling2D  (None, 112, 112, 8)  0          ['activation_73[0][0]']          \n",
            " )                                                                                                \n",
            "                                                                                                  \n",
            " conv2d_78 (Conv2D)             (None, 112, 112, 8)  584         ['max_pooling2d_21[0][0]']       \n",
            "                                                                                                  \n",
            " batch_normalization_74 (BatchN  (None, 112, 112, 8)  32         ['conv2d_78[0][0]']              \n",
            " ormalization)                                                                                    \n",
            "                                                                                                  \n",
            " activation_74 (Activation)     (None, 112, 112, 8)  0           ['batch_normalization_74[0][0]'] \n",
            "                                                                                                  \n",
            " conv2d_80 (Conv2D)             (None, 112, 112, 8)  584         ['activation_74[0][0]']          \n",
            "                                                                                                  \n",
            " add_26 (Add)                   (None, 112, 112, 8)  0           ['conv2d_80[0][0]',              \n",
            "                                                                  'activation_74[0][0]']          \n",
            "                                                                                                  \n",
            " batch_normalization_76 (BatchN  (None, 112, 112, 8)  32         ['add_26[0][0]']                 \n",
            " ormalization)                                                                                    \n",
            "                                                                                                  \n",
            " activation_76 (Activation)     (None, 112, 112, 8)  0           ['batch_normalization_76[0][0]'] \n",
            "                                                                                                  \n",
            " max_pooling2d_22 (MaxPooling2D  (None, 56, 56, 8)   0           ['activation_76[0][0]']          \n",
            " )                                                                                                \n",
            "                                                                                                  \n",
            " conv2d_81 (Conv2D)             (None, 56, 56, 8)    584         ['max_pooling2d_22[0][0]']       \n",
            "                                                                                                  \n",
            " batch_normalization_77 (BatchN  (None, 56, 56, 8)   32          ['conv2d_81[0][0]']              \n",
            " ormalization)                                                                                    \n",
            "                                                                                                  \n",
            " activation_77 (Activation)     (None, 56, 56, 8)    0           ['batch_normalization_77[0][0]'] \n",
            "                                                                                                  \n",
            " conv2d_83 (Conv2D)             (None, 56, 56, 8)    584         ['activation_77[0][0]']          \n",
            "                                                                                                  \n",
            " add_27 (Add)                   (None, 56, 56, 8)    0           ['conv2d_83[0][0]',              \n",
            "                                                                  'activation_77[0][0]']          \n",
            "                                                                                                  \n",
            " batch_normalization_79 (BatchN  (None, 56, 56, 8)   32          ['add_27[0][0]']                 \n",
            " ormalization)                                                                                    \n",
            "                                                                                                  \n",
            " activation_79 (Activation)     (None, 56, 56, 8)    0           ['batch_normalization_79[0][0]'] \n",
            "                                                                                                  \n",
            " max_pooling2d_23 (MaxPooling2D  (None, 28, 28, 8)   0           ['activation_79[0][0]']          \n",
            " )                                                                                                \n",
            "                                                                                                  \n",
            " flatten_6 (Flatten)            (None, 6272)         0           ['max_pooling2d_23[0][0]']       \n",
            "                                                                                                  \n",
            " dense_12 (Dense)               (None, 256)          1605888     ['flatten_6[0][0]']              \n",
            "                                                                                                  \n",
            " dropout_6 (Dropout)            (None, 256)          0           ['dense_12[0][0]']               \n",
            "                                                                                                  \n",
            " dense_13 (Dense)               (None, 2)            514         ['dropout_6[0][0]']              \n",
            "                                                                                                  \n",
            "==================================================================================================\n",
            "Total params: 1,609,738\n",
            "Trainable params: 1,609,642\n",
            "Non-trainable params: 96\n",
            "__________________________________________________________________________________________________\n"
          ]
        }
      ]
    },
    {
      "cell_type": "code",
      "source": [
        "history = model.fit(X_train, y_train\n",
        "                   , batch_size = 20\n",
        "                   , epochs = 30\n",
        "                   , validation_split = 0.3\n",
        "                   , verbose = 1)"
      ],
      "metadata": {
        "colab": {
          "base_uri": "https://localhost:8080/"
        },
        "id": "8WUTMBZjZ0vf",
        "outputId": "23e84086-1bf6-43ef-a14b-11516658ea9d"
      },
      "execution_count": 26,
      "outputs": [
        {
          "output_type": "stream",
          "name": "stdout",
          "text": [
            "Epoch 1/30\n",
            "41/41 [==============================] - 122s 2s/step - loss: 0.5506 - acc: 0.7540 - val_loss: 0.6921 - val_acc: 0.5556\n",
            "Epoch 2/30\n",
            "41/41 [==============================] - 68s 2s/step - loss: 0.3927 - acc: 0.8592 - val_loss: 0.6877 - val_acc: 0.5556\n",
            "Epoch 3/30\n",
            "41/41 [==============================] - 64s 2s/step - loss: 0.3007 - acc: 0.8935 - val_loss: 0.6826 - val_acc: 0.5556\n",
            "Epoch 4/30\n",
            "41/41 [==============================] - 65s 2s/step - loss: 0.2576 - acc: 0.9143 - val_loss: 0.6794 - val_acc: 0.5556\n",
            "Epoch 5/30\n",
            "41/41 [==============================] - 64s 2s/step - loss: 0.2201 - acc: 0.9253 - val_loss: 0.6707 - val_acc: 0.5556\n",
            "Epoch 6/30\n",
            "41/41 [==============================] - 65s 2s/step - loss: 0.1876 - acc: 0.9388 - val_loss: 0.6706 - val_acc: 0.5556\n",
            "Epoch 7/30\n",
            "41/41 [==============================] - 64s 2s/step - loss: 0.1622 - acc: 0.9486 - val_loss: 0.6656 - val_acc: 0.5556\n",
            "Epoch 8/30\n",
            "41/41 [==============================] - 67s 2s/step - loss: 0.1379 - acc: 0.9547 - val_loss: 0.6309 - val_acc: 0.5726\n",
            "Epoch 9/30\n",
            "41/41 [==============================] - 65s 2s/step - loss: 0.1124 - acc: 0.9767 - val_loss: 0.6254 - val_acc: 0.5869\n",
            "Epoch 10/30\n",
            "41/41 [==============================] - 64s 2s/step - loss: 0.1004 - acc: 0.9804 - val_loss: 0.5815 - val_acc: 0.6211\n",
            "Epoch 11/30\n",
            "41/41 [==============================] - 65s 2s/step - loss: 0.0908 - acc: 0.9792 - val_loss: 0.4993 - val_acc: 0.7123\n",
            "Epoch 12/30\n",
            "41/41 [==============================] - 64s 2s/step - loss: 0.0748 - acc: 0.9841 - val_loss: 0.4292 - val_acc: 0.7721\n",
            "Epoch 13/30\n",
            "41/41 [==============================] - 63s 2s/step - loss: 0.0617 - acc: 0.9914 - val_loss: 0.3217 - val_acc: 0.8547\n",
            "Epoch 14/30\n",
            "41/41 [==============================] - 65s 2s/step - loss: 0.0555 - acc: 0.9914 - val_loss: 0.2262 - val_acc: 0.9117\n",
            "Epoch 15/30\n",
            "41/41 [==============================] - 63s 2s/step - loss: 0.0507 - acc: 0.9914 - val_loss: 0.1806 - val_acc: 0.9288\n",
            "Epoch 16/30\n",
            "41/41 [==============================] - 65s 2s/step - loss: 0.0430 - acc: 0.9927 - val_loss: 0.1857 - val_acc: 0.9231\n",
            "Epoch 17/30\n",
            "41/41 [==============================] - 64s 2s/step - loss: 0.0382 - acc: 0.9927 - val_loss: 0.1476 - val_acc: 0.9402\n",
            "Epoch 18/30\n",
            "41/41 [==============================] - 63s 2s/step - loss: 0.0316 - acc: 0.9963 - val_loss: 0.1317 - val_acc: 0.9459\n",
            "Epoch 19/30\n",
            "41/41 [==============================] - 65s 2s/step - loss: 0.0284 - acc: 0.9951 - val_loss: 0.1278 - val_acc: 0.9487\n",
            "Epoch 20/30\n",
            "41/41 [==============================] - 63s 2s/step - loss: 0.0227 - acc: 0.9976 - val_loss: 0.1331 - val_acc: 0.9487\n",
            "Epoch 21/30\n",
            "41/41 [==============================] - 64s 2s/step - loss: 0.0183 - acc: 0.9988 - val_loss: 0.1282 - val_acc: 0.9430\n",
            "Epoch 22/30\n",
            "41/41 [==============================] - 65s 2s/step - loss: 0.0233 - acc: 0.9963 - val_loss: 0.1222 - val_acc: 0.9430\n",
            "Epoch 23/30\n",
            "41/41 [==============================] - 64s 2s/step - loss: 0.0174 - acc: 0.9963 - val_loss: 0.1284 - val_acc: 0.9544\n",
            "Epoch 24/30\n",
            "41/41 [==============================] - 66s 2s/step - loss: 0.0208 - acc: 0.9939 - val_loss: 0.1210 - val_acc: 0.9459\n",
            "Epoch 25/30\n",
            "41/41 [==============================] - 65s 2s/step - loss: 0.0147 - acc: 0.9951 - val_loss: 0.1192 - val_acc: 0.9516\n",
            "Epoch 26/30\n",
            "41/41 [==============================] - 65s 2s/step - loss: 0.0162 - acc: 0.9939 - val_loss: 0.1270 - val_acc: 0.9516\n",
            "Epoch 27/30\n",
            "41/41 [==============================] - 66s 2s/step - loss: 0.0107 - acc: 0.9976 - val_loss: 0.1180 - val_acc: 0.9402\n",
            "Epoch 28/30\n",
            "41/41 [==============================] - 65s 2s/step - loss: 0.0114 - acc: 0.9976 - val_loss: 0.1240 - val_acc: 0.9516\n",
            "Epoch 29/30\n",
            "41/41 [==============================] - 66s 2s/step - loss: 0.0116 - acc: 0.9963 - val_loss: 0.1232 - val_acc: 0.9459\n",
            "Epoch 30/30\n",
            "41/41 [==============================] - 64s 2s/step - loss: 0.0166 - acc: 0.9951 - val_loss: 0.1231 - val_acc: 0.9487\n"
          ]
        }
      ]
    },
    {
      "cell_type": "code",
      "source": [
        "from keras import layers, models\n",
        "import matplotlib.pyplot as plt\n",
        "\n",
        "acc = history.history['acc']\n",
        "val_acc = history.history['val_acc']\n",
        "loss = history.history['loss']\n",
        "val_loss = history.history['val_loss']\n",
        "\n",
        "epochs = range(len(acc))\n",
        "\n",
        "plt.plot(epochs, acc, 'bo', label='Training acc')\n",
        "plt.plot(epochs, val_acc, 'b', label='Validation acc')\n",
        "plt.title('Training and validation accuracy')\n",
        "plt.legend()\n",
        "plt.savefig('property')\n",
        "\n",
        "plt.figure()\n",
        "\n",
        "plt.plot(epochs, loss, 'bo', label='Training loss')\n",
        "plt.plot(epochs, val_loss, 'b', label='Validation loss')\n",
        "plt.title('Training and validation loss')\n",
        "plt.legend()\n",
        "plt.savefig('loss')"
      ],
      "metadata": {
        "colab": {
          "base_uri": "https://localhost:8080/",
          "height": 545
        },
        "id": "pqvhKNuaWyiQ",
        "outputId": "42ef4b21-63b3-4409-d12a-f7ec5f2fccb4"
      },
      "execution_count": null,
      "outputs": [
        {
          "output_type": "display_data",
          "data": {
            "text/plain": [
              "<Figure size 432x288 with 1 Axes>"
            ],
            "image/png": "[encoded data removed]"
          },
          "metadata": {
            "needs_background": "light"
          }
        },
        {
          "output_type": "display_data",
          "data": {
            "text/plain": [
              "<Figure size 432x288 with 1 Axes>"
            ],
            "image/png": "[encoded data removed]"
          },
          "metadata": {
            "needs_background": "light"
          }
        }
      ]
    },
    {
      "cell_type": "code",
      "source": [
        "from PIL import Image\n",
        "import os, glob\n",
        "import numpy as np\n",
        "import random, math\n",
        "\n",
        "# 画像が保存されているディレクトリのパス\n",
        "root_dir = \"/content/drive/MyDrive/result_range\"\n",
        "# 画像が保存されているフォルダ名\n",
        "categories =[\"left\",\"right\"]\n",
        "\n",
        "X = [] # 画像データ\n",
        "Y = [] # ラベルデータ\n",
        "\n",
        "# フォルダごとに分けられたファイルを収集\n",
        "#（categoriesのidxと、画像のファイルパスが紐づいたリストを生成）\n",
        "allfiles = []\n",
        "for idx, cat in enumerate(categories):\n",
        "    image_dir = root_dir + \"/\" + cat\n",
        "    files = glob.glob(image_dir + \"/*.jpg\")\n",
        "    for f in files:\n",
        "        allfiles.append((idx, f))\n",
        "\n",
        "for cat, fname in allfiles:\n",
        "    img = Image.open(fname)\n",
        "    img = img.convert(\"RGB\")\n",
        "    img = img.resize((224,224))\n",
        "    data = np.asarray(img)\n",
        "    X.append(data)\n",
        "    Y.append(cat)\n",
        "\n",
        "x = np.array(X)\n",
        "y = np.array(Y)\n",
        "\n",
        "np.save(\"/content/drive/MyDrive/tea_data_test_X_150.npy\", x)\n",
        "np.save(\"/content/drive/MyDrive/tea_data_test_Y_150.npy\", y)"
      ],
      "metadata": {
        "id": "QPsBTv_LMWMO"
      },
      "execution_count": 27,
      "outputs": []
    },
    {
      "cell_type": "code",
      "source": [
        "# モデルの精度を測る\n",
        "\n",
        "#評価用のデータの読み込み\n",
        "test_X = np.load(\"/content/drive/MyDrive/tea_data_test_X_150.npy\")\n",
        "test_Y = np.load(\"/content/drive/MyDrive/tea_data_test_Y_150.npy\")\n",
        "\n",
        "#Yのデータをone-hotに変換\n",
        "from keras.utils import np_utils\n",
        "\n",
        "test_Y = np_utils.to_categorical(test_Y, 2)\n",
        "\n",
        "score = history.model.evaluate(x=test_X,y=test_Y)\n",
        "\n",
        "print('loss=', score[0])\n",
        "print('accuracy=', score[1])"
      ],
      "metadata": {
        "colab": {
          "base_uri": "https://localhost:8080/"
        },
        "id": "cDJTkiuOMRVJ",
        "outputId": "879a3ccd-96dd-42da-df28-809cffca8869"
      },
      "execution_count": 28,
      "outputs": [
        {
          "output_type": "stream",
          "name": "stdout",
          "text": [
            "46/46 [==============================] - 31s 671ms/step - loss: 322.2391 - acc: 0.6329\n",
            "loss= 322.2391357421875\n",
            "accuracy= 0.6328766942024231\n"
          ]
        }
      ]
    },
    {
      "cell_type": "code",
      "source": [],
      "metadata": {
        "id": "L4YZX1vJMR6d"
      },
      "execution_count": null,
      "outputs": []
    }
  ]
}