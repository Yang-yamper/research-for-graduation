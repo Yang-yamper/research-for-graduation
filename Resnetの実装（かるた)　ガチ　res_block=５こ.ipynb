{
  "nbformat": 4,
  "nbformat_minor": 0,
  "metadata": {
    "colab": {
      "provenance": [],
      "authorship_tag": "ABX9TyP/76j/MFp4KfP9w5gX9ivV",
      "include_colab_link": true
    },
    "kernelspec": {
      "name": "python3",
      "display_name": "Python 3"
    },
    "language_info": {
      "name": "python"
    }
  },
  "cells": [
    {
      "cell_type": "markdown",
      "metadata": {
        "id": "view-in-github",
        "colab_type": "text"
      },
      "source": [
        "<a href=\"https://colab.research.google.com/github/Yang-yamper/research-for-graduation/blob/main/Resnet%E3%81%AE%E5%AE%9F%E8%A3%85%EF%BC%88%E3%81%8B%E3%82%8B%E3%81%9F)%E3%80%80%E3%82%AC%E3%83%81%E3%80%80res_block%3D%EF%BC%95%E3%81%93.ipynb\" target=\"_parent\"><img src=\"https://colab.research.google.com/assets/colab-badge.svg\" alt=\"Open In Colab\"/></a>"
      ]
    },
    {
      "cell_type": "code",
      "execution_count": 1,
      "metadata": {
        "colab": {
          "base_uri": "https://localhost:8080/"
        },
        "id": "TDOJAr_nbcdm",
        "outputId": "dfbe817c-b9b5-4bc8-c070-7b2af327812a"
      },
      "outputs": [
        {
          "output_type": "stream",
          "name": "stdout",
          "text": [
            "Mounted at /content/drive\n"
          ]
        }
      ],
      "source": [
        "from google.colab import drive\n",
        "drive.mount('/content/drive')"
      ]
    },
    {
      "cell_type": "code",
      "source": [
        "import cv2\n",
        "import pandas as pd\n",
        "import numpy as np\n",
        "import matplotlib.pyplot as plt\n",
        "import os \n",
        "import keras\n",
        "from tqdm import tqdm, tqdm_notebook\n",
        "from keras.layers import Input, Conv2D, GlobalAveragePooling2D, BatchNormalization, MaxPooling2D\n",
        "from keras.layers import Add, Activation, Flatten, Dense, Dropout\n",
        "from keras.models import Model\n",
        "from keras.optimizers import RMSprop\n",
        "from keras.preprocessing.image import ImageDataGenerator"
      ],
      "metadata": {
        "id": "9D6R-MfXZvxE"
      },
      "execution_count": 2,
      "outputs": []
    },
    {
      "cell_type": "code",
      "execution_count": 3,
      "metadata": {
        "id": "JVc_wvNdrv7w",
        "colab": {
          "base_uri": "https://localhost:8080/"
        },
        "outputId": "b5390c32-f53d-424f-a1b1-a0274a6ac6fd"
      },
      "outputs": [
        {
          "output_type": "stream",
          "name": "stderr",
          "text": [
            "/usr/local/lib/python3.8/dist-packages/numpy/lib/npyio.py:528: VisibleDeprecationWarning: Creating an ndarray from ragged nested sequences (which is a list-or-tuple of lists-or-tuples-or ndarrays with different lengths or shapes) is deprecated. If you meant to do this, you must specify 'dtype=object' when creating the ndarray.\n",
            "  arr = np.asanyarray(arr)\n"
          ]
        }
      ],
      "source": [
        "from PIL import Image\n",
        "import os, glob\n",
        "import numpy as np\n",
        "import random, math\n",
        "\n",
        "#画像が保存されているルートディレクトリのパス\n",
        "root_dir = \"/content/drive/MyDrive/result_range\"\n",
        "# 商品名\n",
        "categories = [\"left\",\"right\"]\n",
        "\n",
        "# 画像データ用配列\n",
        "X = []\n",
        "# ラベルデータ用配列\n",
        "Y = []\n",
        "\n",
        "#画像データごとにadd_sample()を呼び出し、X,Yの配列を返す関数\n",
        "def make_sample(files):\n",
        "    global X, Y\n",
        "    X = []\n",
        "    Y = []\n",
        "    for cat, fname in files:\n",
        "        add_sample(cat, fname)\n",
        "    return np.array(X), np.array(Y)\n",
        "\n",
        "#渡された画像データを読み込んでXに格納し、また、\n",
        "#画像データに対応するcategoriesのidxをY格納する関数\n",
        "def add_sample(cat, fname):\n",
        "    img = Image.open(fname)\n",
        "    img = img.convert(\"RGB\")\n",
        "    img = img.resize((224,224))\n",
        "    data = np.asarray(img)\n",
        "    X.append(data)\n",
        "    Y.append(cat)\n",
        "\n",
        "#全データ格納用配列\n",
        "allfiles = []\n",
        "\n",
        "#カテゴリ配列の各値と、それに対応するidxを認識し、全データをallfilesにまとめる\n",
        "for idx, cat in enumerate(categories):\n",
        "    image_dir = root_dir + \"/\" + cat\n",
        "    files = glob.glob(image_dir + \"/*.jpg\")\n",
        "    for f in files:\n",
        "        allfiles.append((idx, f))\n",
        "\n",
        "#シャッフル後、学習データと検証データに分ける\n",
        "random.shuffle(allfiles)\n",
        "th = math.floor(len(allfiles) * 0.8)\n",
        "train = allfiles[0:th]\n",
        "test  = allfiles[th:]\n",
        "X_train, y_train = make_sample(train)\n",
        "X_test, y_test = make_sample(test)\n",
        "xy = (X_train, X_test, y_train, y_test)\n",
        "#データを保存する（データの名前を「tea_data.npy」としている）\n",
        "np.save(\"/content/drive/MyDrive/tea_data.npy\", xy)"
      ]
    },
    {
      "cell_type": "code",
      "execution_count": 4,
      "metadata": {
        "id": "gw0lC_e3sFCs"
      },
      "outputs": [],
      "source": [
        "from keras.utils import np_utils\n",
        "import numpy as np\n",
        "\n",
        "categories = [\"left\",\"right\"]\n",
        "nb_classes = len(categories)\n",
        "\n",
        "X_train, X_test,y_train, y_test = np.load(\"/content/drive/MyDrive/tea_data.npy\", allow_pickle=True)\n",
        "\n",
        "#データの正規化\n",
        "X_train = X_train.astype(\"float\") / 255\n",
        "X_test  = X_test.astype(\"float\")  / 255\n",
        "\n",
        "#kerasで扱えるようにcategoriesをベクトルに変換\n",
        "y_train = np_utils.to_categorical(y_train, nb_classes)\n",
        "y_test  = np_utils.to_categorical(y_test, nb_classes)"
      ]
    },
    {
      "cell_type": "code",
      "source": [
        "#res block\n",
        "def resblock(x, filters, kernel_size):\n",
        "    x_ = Conv2D(filters, kernel_size, padding='same')(x)\n",
        "    x_ = BatchNormalization()(x_)\n",
        "    x_ = Activation(\"relu\")(x_)\n",
        "    x_ = Conv2D(filters, kernel_size, padding='same')(x)\n",
        "    x = Add()([x_, x])\n",
        "    x = BatchNormalization()(x)\n",
        "    x = Activation(\"relu\")(x)\n",
        "    return x\n",
        "\n",
        "#cnnの構築\n",
        "input_ = Input(shape=(224,224,3))#横の数、縦の数、RGB\n",
        "\n",
        "c = Conv2D(32, (3,3), padding='same')(input_)\n",
        "c = BatchNormalization()(c)\n",
        "c = Activation('relu')(c)\n",
        "c = resblock(c,filters=32,kernel_size=(3, 3))\n",
        "c = MaxPooling2D(pool_size=(2,2))(c)\n",
        "c = Conv2D(32, (3,3), padding='same')(c)\n",
        "c = BatchNormalization()(c)\n",
        "c = Activation('relu')(c)\n",
        "c = resblock(c,filters=32, kernel_size=(3, 3))\n",
        "c = MaxPooling2D(pool_size=(2,2))(c)\n",
        "c = Conv2D(32, (3,3), padding='same')(c)\n",
        "c = BatchNormalization()(c)\n",
        "c = Activation('relu')(c)\n",
        "c = resblock(c,filters=32, kernel_size=(3, 3))\n",
        "c = MaxPooling2D(pool_size=(2,2))(c)\n",
        "c = Conv2D(32, (3,3), padding='same')(c)\n",
        "c = BatchNormalization()(c)\n",
        "c = Activation('relu')(c)\n",
        "c = resblock(c,filters=32, kernel_size=(3, 3))\n",
        "c = MaxPooling2D(pool_size=(2,2))(c)\n",
        "c = Conv2D(32, (3,3), padding='same')(c)\n",
        "c = BatchNormalization()(c)\n",
        "c = Activation('relu')(c)\n",
        "c = resblock(c,filters=32, kernel_size=(3, 3))\n",
        "c = MaxPooling2D(pool_size=(2,2))(c)\n",
        "c = Flatten()(c)\n",
        "c = Dense(1024, activation='relu')(c)\n",
        "c = Dropout(0.2)(c)\n",
        "c = Dense(2, activation='sigmoid')(c)\n",
        "\n",
        "model = Model(input_, c)\n",
        "\n",
        "model.summary()\n",
        "model.compile(loss='binary_crossentropy', optimizer=RMSprop(learning_rate=1e-4),metrics=[\"acc\"])"
      ],
      "metadata": {
        "colab": {
          "base_uri": "https://localhost:8080/"
        },
        "id": "FgxTAU8QZyhg",
        "outputId": "ef84f71a-619d-497d-eb24-19a89b2f0181"
      },
      "execution_count": 5,
      "outputs": [
        {
          "output_type": "stream",
          "name": "stdout",
          "text": [
            "Model: \"model\"\n",
            "__________________________________________________________________________________________________\n",
            " Layer (type)                   Output Shape         Param #     Connected to                     \n",
            "==================================================================================================\n",
            " input_1 (InputLayer)           [(None, 224, 224, 3  0           []                               \n",
            "                                )]                                                                \n",
            "                                                                                                  \n",
            " conv2d (Conv2D)                (None, 224, 224, 32  896         ['input_1[0][0]']                \n",
            "                                )                                                                 \n",
            "                                                                                                  \n",
            " batch_normalization (BatchNorm  (None, 224, 224, 32  128        ['conv2d[0][0]']                 \n",
            " alization)                     )                                                                 \n",
            "                                                                                                  \n",
            " activation (Activation)        (None, 224, 224, 32  0           ['batch_normalization[0][0]']    \n",
            "                                )                                                                 \n",
            "                                                                                                  \n",
            " conv2d_2 (Conv2D)              (None, 224, 224, 32  9248        ['activation[0][0]']             \n",
            "                                )                                                                 \n",
            "                                                                                                  \n",
            " add (Add)                      (None, 224, 224, 32  0           ['conv2d_2[0][0]',               \n",
            "                                )                                 'activation[0][0]']             \n",
            "                                                                                                  \n",
            " batch_normalization_2 (BatchNo  (None, 224, 224, 32  128        ['add[0][0]']                    \n",
            " rmalization)                   )                                                                 \n",
            "                                                                                                  \n",
            " activation_2 (Activation)      (None, 224, 224, 32  0           ['batch_normalization_2[0][0]']  \n",
            "                                )                                                                 \n",
            "                                                                                                  \n",
            " max_pooling2d (MaxPooling2D)   (None, 112, 112, 32  0           ['activation_2[0][0]']           \n",
            "                                )                                                                 \n",
            "                                                                                                  \n",
            " conv2d_3 (Conv2D)              (None, 112, 112, 32  9248        ['max_pooling2d[0][0]']          \n",
            "                                )                                                                 \n",
            "                                                                                                  \n",
            " batch_normalization_3 (BatchNo  (None, 112, 112, 32  128        ['conv2d_3[0][0]']               \n",
            " rmalization)                   )                                                                 \n",
            "                                                                                                  \n",
            " activation_3 (Activation)      (None, 112, 112, 32  0           ['batch_normalization_3[0][0]']  \n",
            "                                )                                                                 \n",
            "                                                                                                  \n",
            " conv2d_5 (Conv2D)              (None, 112, 112, 32  9248        ['activation_3[0][0]']           \n",
            "                                )                                                                 \n",
            "                                                                                                  \n",
            " add_1 (Add)                    (None, 112, 112, 32  0           ['conv2d_5[0][0]',               \n",
            "                                )                                 'activation_3[0][0]']           \n",
            "                                                                                                  \n",
            " batch_normalization_5 (BatchNo  (None, 112, 112, 32  128        ['add_1[0][0]']                  \n",
            " rmalization)                   )                                                                 \n",
            "                                                                                                  \n",
            " activation_5 (Activation)      (None, 112, 112, 32  0           ['batch_normalization_5[0][0]']  \n",
            "                                )                                                                 \n",
            "                                                                                                  \n",
            " max_pooling2d_1 (MaxPooling2D)  (None, 56, 56, 32)  0           ['activation_5[0][0]']           \n",
            "                                                                                                  \n",
            " conv2d_6 (Conv2D)              (None, 56, 56, 32)   9248        ['max_pooling2d_1[0][0]']        \n",
            "                                                                                                  \n",
            " batch_normalization_6 (BatchNo  (None, 56, 56, 32)  128         ['conv2d_6[0][0]']               \n",
            " rmalization)                                                                                     \n",
            "                                                                                                  \n",
            " activation_6 (Activation)      (None, 56, 56, 32)   0           ['batch_normalization_6[0][0]']  \n",
            "                                                                                                  \n",
            " conv2d_8 (Conv2D)              (None, 56, 56, 32)   9248        ['activation_6[0][0]']           \n",
            "                                                                                                  \n",
            " add_2 (Add)                    (None, 56, 56, 32)   0           ['conv2d_8[0][0]',               \n",
            "                                                                  'activation_6[0][0]']           \n",
            "                                                                                                  \n",
            " batch_normalization_8 (BatchNo  (None, 56, 56, 32)  128         ['add_2[0][0]']                  \n",
            " rmalization)                                                                                     \n",
            "                                                                                                  \n",
            " activation_8 (Activation)      (None, 56, 56, 32)   0           ['batch_normalization_8[0][0]']  \n",
            "                                                                                                  \n",
            " max_pooling2d_2 (MaxPooling2D)  (None, 28, 28, 32)  0           ['activation_8[0][0]']           \n",
            "                                                                                                  \n",
            " conv2d_9 (Conv2D)              (None, 28, 28, 32)   9248        ['max_pooling2d_2[0][0]']        \n",
            "                                                                                                  \n",
            " batch_normalization_9 (BatchNo  (None, 28, 28, 32)  128         ['conv2d_9[0][0]']               \n",
            " rmalization)                                                                                     \n",
            "                                                                                                  \n",
            " activation_9 (Activation)      (None, 28, 28, 32)   0           ['batch_normalization_9[0][0]']  \n",
            "                                                                                                  \n",
            " conv2d_11 (Conv2D)             (None, 28, 28, 32)   9248        ['activation_9[0][0]']           \n",
            "                                                                                                  \n",
            " add_3 (Add)                    (None, 28, 28, 32)   0           ['conv2d_11[0][0]',              \n",
            "                                                                  'activation_9[0][0]']           \n",
            "                                                                                                  \n",
            " batch_normalization_11 (BatchN  (None, 28, 28, 32)  128         ['add_3[0][0]']                  \n",
            " ormalization)                                                                                    \n",
            "                                                                                                  \n",
            " activation_11 (Activation)     (None, 28, 28, 32)   0           ['batch_normalization_11[0][0]'] \n",
            "                                                                                                  \n",
            " max_pooling2d_3 (MaxPooling2D)  (None, 14, 14, 32)  0           ['activation_11[0][0]']          \n",
            "                                                                                                  \n",
            " conv2d_12 (Conv2D)             (None, 14, 14, 32)   9248        ['max_pooling2d_3[0][0]']        \n",
            "                                                                                                  \n",
            " batch_normalization_12 (BatchN  (None, 14, 14, 32)  128         ['conv2d_12[0][0]']              \n",
            " ormalization)                                                                                    \n",
            "                                                                                                  \n",
            " activation_12 (Activation)     (None, 14, 14, 32)   0           ['batch_normalization_12[0][0]'] \n",
            "                                                                                                  \n",
            " conv2d_14 (Conv2D)             (None, 14, 14, 32)   9248        ['activation_12[0][0]']          \n",
            "                                                                                                  \n",
            " add_4 (Add)                    (None, 14, 14, 32)   0           ['conv2d_14[0][0]',              \n",
            "                                                                  'activation_12[0][0]']          \n",
            "                                                                                                  \n",
            " batch_normalization_14 (BatchN  (None, 14, 14, 32)  128         ['add_4[0][0]']                  \n",
            " ormalization)                                                                                    \n",
            "                                                                                                  \n",
            " activation_14 (Activation)     (None, 14, 14, 32)   0           ['batch_normalization_14[0][0]'] \n",
            "                                                                                                  \n",
            " max_pooling2d_4 (MaxPooling2D)  (None, 7, 7, 32)    0           ['activation_14[0][0]']          \n",
            "                                                                                                  \n",
            " flatten (Flatten)              (None, 1568)         0           ['max_pooling2d_4[0][0]']        \n",
            "                                                                                                  \n",
            " dense (Dense)                  (None, 1024)         1606656     ['flatten[0][0]']                \n",
            "                                                                                                  \n",
            " dropout (Dropout)              (None, 1024)         0           ['dense[0][0]']                  \n",
            "                                                                                                  \n",
            " dense_1 (Dense)                (None, 2)            2050        ['dropout[0][0]']                \n",
            "                                                                                                  \n",
            "==================================================================================================\n",
            "Total params: 1,694,114\n",
            "Trainable params: 1,693,474\n",
            "Non-trainable params: 640\n",
            "__________________________________________________________________________________________________\n"
          ]
        }
      ]
    },
    {
      "cell_type": "code",
      "source": [
        "history = model.fit(X_train, y_train\n",
        "                   , batch_size = 20\n",
        "                   , epochs = 30\n",
        "                   , validation_split = 0.3\n",
        "                   , verbose = 1)"
      ],
      "metadata": {
        "colab": {
          "base_uri": "https://localhost:8080/"
        },
        "id": "8WUTMBZjZ0vf",
        "outputId": "eb04c112-7f58-4429-99bc-3d3c8daacd21"
      },
      "execution_count": 6,
      "outputs": [
        {
          "output_type": "stream",
          "name": "stdout",
          "text": [
            "Epoch 1/30\n",
            "41/41 [==============================] - 231s 6s/step - loss: 0.4175 - acc: 0.8360 - val_loss: 0.6902 - val_acc: 0.6011\n",
            "Epoch 2/30\n",
            "41/41 [==============================] - 224s 5s/step - loss: 0.1486 - acc: 0.9547 - val_loss: 0.6861 - val_acc: 0.5698\n",
            "Epoch 3/30\n",
            "41/41 [==============================] - 224s 5s/step - loss: 0.0566 - acc: 0.9927 - val_loss: 0.7370 - val_acc: 0.5413\n",
            "Epoch 4/30\n",
            "41/41 [==============================] - 228s 6s/step - loss: 0.0367 - acc: 0.9902 - val_loss: 0.6848 - val_acc: 0.4701\n",
            "Epoch 5/30\n",
            "41/41 [==============================] - 225s 6s/step - loss: 0.0282 - acc: 0.9914 - val_loss: 0.7252 - val_acc: 0.5413\n",
            "Epoch 6/30\n",
            "41/41 [==============================] - 228s 6s/step - loss: 0.0263 - acc: 0.9939 - val_loss: 0.7275 - val_acc: 0.5413\n",
            "Epoch 7/30\n",
            "41/41 [==============================] - 225s 5s/step - loss: 0.0168 - acc: 0.9951 - val_loss: 0.7240 - val_acc: 0.6097\n",
            "Epoch 8/30\n",
            "41/41 [==============================] - 224s 5s/step - loss: 0.0140 - acc: 0.9976 - val_loss: 0.7182 - val_acc: 0.7037\n",
            "Epoch 9/30\n",
            "41/41 [==============================] - 227s 6s/step - loss: 0.0207 - acc: 0.9939 - val_loss: 0.7430 - val_acc: 0.6923\n",
            "Epoch 10/30\n",
            "41/41 [==============================] - 226s 6s/step - loss: 0.0223 - acc: 0.9927 - val_loss: 0.8268 - val_acc: 0.7009\n",
            "Epoch 11/30\n",
            "41/41 [==============================] - 227s 6s/step - loss: 0.0137 - acc: 0.9951 - val_loss: 0.4414 - val_acc: 0.8519\n",
            "Epoch 12/30\n",
            "41/41 [==============================] - 225s 5s/step - loss: 0.0088 - acc: 0.9963 - val_loss: 0.3964 - val_acc: 0.8348\n",
            "Epoch 13/30\n",
            "41/41 [==============================] - 225s 5s/step - loss: 0.0117 - acc: 0.9963 - val_loss: 0.3415 - val_acc: 0.8775\n",
            "Epoch 14/30\n",
            "41/41 [==============================] - 227s 6s/step - loss: 0.0212 - acc: 0.9951 - val_loss: 0.0962 - val_acc: 0.9601\n",
            "Epoch 15/30\n",
            "41/41 [==============================] - 225s 5s/step - loss: 0.0179 - acc: 0.9963 - val_loss: 0.0494 - val_acc: 0.9858\n",
            "Epoch 16/30\n",
            "41/41 [==============================] - 225s 6s/step - loss: 0.0066 - acc: 0.9988 - val_loss: 0.0473 - val_acc: 0.9943\n",
            "Epoch 17/30\n",
            "41/41 [==============================] - 228s 6s/step - loss: 0.0179 - acc: 0.9951 - val_loss: 0.0380 - val_acc: 0.9886\n",
            "Epoch 18/30\n",
            "41/41 [==============================] - 226s 6s/step - loss: 0.0195 - acc: 0.9951 - val_loss: 0.0273 - val_acc: 0.9943\n",
            "Epoch 19/30\n",
            "41/41 [==============================] - 229s 6s/step - loss: 0.0176 - acc: 0.9951 - val_loss: 0.0257 - val_acc: 0.9972\n",
            "Epoch 20/30\n",
            "41/41 [==============================] - 227s 6s/step - loss: 0.0202 - acc: 0.9976 - val_loss: 0.0290 - val_acc: 0.9915\n",
            "Epoch 21/30\n",
            "41/41 [==============================] - 226s 6s/step - loss: 0.0153 - acc: 0.9963 - val_loss: 0.0309 - val_acc: 0.9972\n",
            "Epoch 22/30\n",
            "41/41 [==============================] - 228s 6s/step - loss: 0.0136 - acc: 0.9951 - val_loss: 0.0299 - val_acc: 0.9972\n",
            "Epoch 23/30\n",
            "41/41 [==============================] - 226s 6s/step - loss: 0.0099 - acc: 0.9976 - val_loss: 0.0297 - val_acc: 0.9972\n",
            "Epoch 24/30\n",
            "41/41 [==============================] - 226s 6s/step - loss: 0.0177 - acc: 0.9951 - val_loss: 0.0303 - val_acc: 0.9943\n",
            "Epoch 25/30\n",
            "41/41 [==============================] - 229s 6s/step - loss: 0.0139 - acc: 0.9963 - val_loss: 0.0260 - val_acc: 0.9972\n",
            "Epoch 26/30\n",
            "41/41 [==============================] - 226s 6s/step - loss: 0.0038 - acc: 0.9988 - val_loss: 0.0343 - val_acc: 0.9943\n",
            "Epoch 27/30\n",
            "41/41 [==============================] - 225s 6s/step - loss: 0.0117 - acc: 0.9951 - val_loss: 0.0316 - val_acc: 0.9972\n",
            "Epoch 28/30\n",
            "41/41 [==============================] - 228s 6s/step - loss: 0.0101 - acc: 0.9976 - val_loss: 0.0372 - val_acc: 0.9972\n",
            "Epoch 29/30\n",
            "41/41 [==============================] - 225s 5s/step - loss: 0.0144 - acc: 0.9963 - val_loss: 0.0293 - val_acc: 0.9886\n",
            "Epoch 30/30\n",
            "41/41 [==============================] - 225s 6s/step - loss: 0.0077 - acc: 0.9963 - val_loss: 0.0396 - val_acc: 0.9972\n"
          ]
        }
      ]
    },
    {
      "cell_type": "code",
      "source": [
        "from keras import layers, models\n",
        "import matplotlib.pyplot as plt\n",
        "\n",
        "acc = history.history['acc']\n",
        "val_acc = history.history['val_acc']\n",
        "loss = history.history['loss']\n",
        "val_loss = history.history['val_loss']\n",
        "\n",
        "epochs = range(len(acc))\n",
        "\n",
        "plt.plot(epochs, acc, 'bo', label='Training acc')\n",
        "plt.plot(epochs, val_acc, 'b', label='Validation acc')\n",
        "plt.title('Training and validation accuracy')\n",
        "plt.legend()\n",
        "plt.savefig('property')\n",
        "\n",
        "plt.figure()\n",
        "\n",
        "plt.plot(epochs, loss, 'bo', label='Training loss')\n",
        "plt.plot(epochs, val_loss, 'b', label='Validation loss')\n",
        "plt.title('Training and validation loss')\n",
        "plt.legend()\n",
        "plt.savefig('loss')"
      ],
      "metadata": {
        "colab": {
          "base_uri": "https://localhost:8080/",
          "height": 545
        },
        "id": "pqvhKNuaWyiQ",
        "outputId": "e354dfb5-0fd5-4bb9-b70c-5dc5bf4ef4d3"
      },
      "execution_count": 7,
      "outputs": [
        {
          "output_type": "display_data",
          "data": {
            "text/plain": [
              "<Figure size 432x288 with 1 Axes>"
            ],
            "image/png": "[encoded data removed]"
          },
          "metadata": {
            "needs_background": "light"
          }
        },
        {
          "output_type": "display_data",
          "data": {
            "text/plain": [
              "<Figure size 432x288 with 1 Axes>"
            ],
            "image/png": "[encoded data removed]"
          },
          "metadata": {
            "needs_background": "light"
          }
        }
      ]
    },
    {
      "cell_type": "code",
      "source": [
        "from PIL import Image\n",
        "import os, glob\n",
        "import numpy as np\n",
        "import random, math\n",
        "\n",
        "# 画像が保存されているディレクトリのパス\n",
        "root_dir = \"/content/drive/MyDrive/result_range\"\n",
        "# 画像が保存されているフォルダ名\n",
        "categories =[\"left\",\"right\"]\n",
        "\n",
        "X = [] # 画像データ\n",
        "Y = [] # ラベルデータ\n",
        "\n",
        "# フォルダごとに分けられたファイルを収集\n",
        "#（categoriesのidxと、画像のファイルパスが紐づいたリストを生成）\n",
        "allfiles = []\n",
        "for idx, cat in enumerate(categories):\n",
        "    image_dir = root_dir + \"/\" + cat\n",
        "    files = glob.glob(image_dir + \"/*.jpg\")\n",
        "    for f in files:\n",
        "        allfiles.append((idx, f))\n",
        "\n",
        "for cat, fname in allfiles:\n",
        "    img = Image.open(fname)\n",
        "    img = img.convert(\"RGB\")\n",
        "    img = img.resize((224,224))\n",
        "    data = np.asarray(img)\n",
        "    X.append(data)\n",
        "    Y.append(cat)\n",
        "\n",
        "x = np.array(X)\n",
        "y = np.array(Y)\n",
        "\n",
        "np.save(\"/content/drive/MyDrive/tea_data_test_X_150.npy\", x)\n",
        "np.save(\"/content/drive/MyDrive/tea_data_test_Y_150.npy\", y)"
      ],
      "metadata": {
        "id": "QPsBTv_LMWMO"
      },
      "execution_count": 8,
      "outputs": []
    },
    {
      "cell_type": "code",
      "source": [
        "# モデルの精度を測る\n",
        "\n",
        "#評価用のデータの読み込み\n",
        "test_X = np.load(\"/content/drive/MyDrive/tea_data_test_X_150.npy\")\n",
        "test_Y = np.load(\"/content/drive/MyDrive/tea_data_test_Y_150.npy\")\n",
        "\n",
        "#Yのデータをone-hotに変換\n",
        "from keras.utils import np_utils\n",
        "\n",
        "test_Y = np_utils.to_categorical(test_Y, 2)\n",
        "\n",
        "score = history.model.evaluate(x=test_X,y=test_Y)\n",
        "\n",
        "print('loss=', score[0])\n",
        "print('accuracy=', score[1])"
      ],
      "metadata": {
        "colab": {
          "base_uri": "https://localhost:8080/"
        },
        "id": "cDJTkiuOMRVJ",
        "outputId": "97e46614-92aa-49c4-a9ff-dd0feff0998c"
      },
      "execution_count": 9,
      "outputs": [
        {
          "output_type": "stream",
          "name": "stdout",
          "text": [
            "46/46 [==============================] - 84s 2s/step - loss: 199.6815 - acc: 0.7801\n",
            "loss= 199.68148803710938\n",
            "accuracy= 0.7801370024681091\n"
          ]
        }
      ]
    },
    {
      "cell_type": "code",
      "source": [],
      "metadata": {
        "id": "L4YZX1vJMR6d"
      },
      "execution_count": 9,
      "outputs": []
    }
  ]
}